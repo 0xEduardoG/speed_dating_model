{
 "cells": [
  {
   "cell_type": "markdown",
   "id": "64a377a9-d025-4dcf-911f-d46fc0506cdf",
   "metadata": {},
   "source": [
    "# Data Analysis and Classification Model on a Speed Dating Dataset | Eduardo Gonzalez | 10.6.23"
   ]
  },
  {
   "cell_type": "markdown",
   "id": "c0eca1d3-110e-4590-a4d9-dfa196d59141",
   "metadata": {},
   "source": [
    "## Business Problem\n",
    "\n",
    "We created a new dating advice company, aimed at helping you find the love of your life.\n",
    "By obtaining data from our client's feedback on different speed dates, we're looking to create a model to predict whether a date will be successful or not. By acquiring this data, we can then set up advising sessions where we got through what's important to get a good match in dating sites and find success in that area.\n",
    "\n",
    "## Data Sources\n",
    "\n",
    "For this problem, we're using the SpeedDating data source from Columbia University. Let's try to find what makes a couple match\n"
   ]
  },
  {
   "cell_type": "markdown",
   "id": "97e141b0-ea36-49f6-b08a-0a81ad326fe8",
   "metadata": {},
   "source": [
    "# Import packages and data"
   ]
  },
  {
   "cell_type": "code",
   "execution_count": 1,
   "id": "69f9a906-5c70-4ca9-91f4-6c77d77fdf65",
   "metadata": {},
   "outputs": [],
   "source": [
    "#Import necessary packages\n",
    "import pandas as pd\n",
    "import numpy as np\n",
    "import matplotlib.pyplot as plt\n",
    "import seaborn as sns\n",
    "from sklearn.linear_model import LogisticRegression\n",
    "from sklearn.model_selection import ParameterGrid\n",
    "from sklearn.preprocessing import StandardScaler\n",
    "from sklearn.preprocessing import OneHotEncoder\n",
    "from sklearn.preprocessing import PolynomialFeatures\n",
    "from sklearn.metrics import accuracy_score, f1_score, precision_score, recall_score, roc_curve, auc\n",
    "from sklearn.metrics import ConfusionMatrixDisplay\n",
    "from sklearn.metrics import confusion_matrix\n",
    "from sklearn.metrics import RocCurveDisplay\n",
    "from imblearn.over_sampling import SMOTE\n",
    "from sklearn.tree import DecisionTreeClassifier, plot_tree\n",
    "%matplotlib inline\n",
    "from sklearn.model_selection import train_test_split, cross_val_score\n",
    "from scipy.io import arff"
   ]
  },
  {
   "cell_type": "markdown",
   "id": "d6ea8c49-4bcb-41c6-9e14-8b2cddc89643",
   "metadata": {},
   "source": [
    "# Importing the Data\n",
    " This database comes in an .arff format, we download the right package for it and open the file, decoding it in order to look at it properly\n"
   ]
  },
  {
   "cell_type": "code",
   "execution_count": 2,
   "id": "bc7d1e06-dcae-4f44-b44f-d61a0089e3a9",
   "metadata": {},
   "outputs": [],
   "source": [
    "data, meta = arff.loadarff('data/speeddating.arff')\n",
    "\n",
    "df = pd.DataFrame(data)\n",
    "\n",
    "for column in df.columns:\n",
    "    if df[column].dtype == 'object':\n",
    "        df[column] = df[column].str.decode('utf-8')"
   ]
  },
  {
   "cell_type": "code",
   "execution_count": 3,
   "id": "7d2b6b35-b176-4a56-9123-347595febff0",
   "metadata": {},
   "outputs": [
    {
     "data": {
      "text/plain": [
       "(8378, 123)"
      ]
     },
     "execution_count": 3,
     "metadata": {},
     "output_type": "execute_result"
    }
   ],
   "source": [
    "df.shape"
   ]
  },
  {
   "cell_type": "code",
   "execution_count": 4,
   "id": "b7fbfed0-e302-4da7-b953-d3479cc11327",
   "metadata": {},
   "outputs": [
    {
     "name": "stdout",
     "output_type": "stream",
     "text": [
      "<class 'pandas.core.frame.DataFrame'>\n",
      "RangeIndex: 8378 entries, 0 to 8377\n",
      "Columns: 123 entries, has_null to match\n",
      "dtypes: float64(59), object(64)\n",
      "memory usage: 7.9+ MB\n"
     ]
    }
   ],
   "source": [
    "df.info()"
   ]
  },
  {
   "cell_type": "markdown",
   "id": "7d57d835-ef3d-4630-99c1-0a1e334ab70c",
   "metadata": {},
   "source": [
    "## Exploring the null values"
   ]
  },
  {
   "cell_type": "code",
   "execution_count": 5,
   "id": "b655ccf5-fae9-4348-ad28-e7df942a1611",
   "metadata": {},
   "outputs": [
    {
     "data": {
      "text/plain": [
       "18173"
      ]
     },
     "execution_count": 5,
     "metadata": {},
     "output_type": "execute_result"
    }
   ],
   "source": [
    "df.isna().sum().sum()"
   ]
  },
  {
   "cell_type": "code",
   "execution_count": 6,
   "id": "53974237-04ce-4da1-a0ae-4d71ef09f692",
   "metadata": {},
   "outputs": [
    {
     "data": {
      "text/plain": [
       "expected_num_interested_in_me    6578\n",
       "expected_num_matches             1173\n",
       "shared_interests_o               1076\n",
       "shared_interests_partner         1067\n",
       "ambitous_o                        722\n",
       "                                 ... \n",
       "d_funny_important                   0\n",
       "d_intellicence_important            0\n",
       "d_sincere_important                 0\n",
       "d_attractive_important              0\n",
       "match                               0\n",
       "Length: 123, dtype: int64"
      ]
     },
     "execution_count": 6,
     "metadata": {},
     "output_type": "execute_result"
    }
   ],
   "source": [
    "# Checking for null values\n",
    "df.isna().sum().sort_values(ascending=False)"
   ]
  },
  {
   "cell_type": "code",
   "execution_count": 7,
   "id": "820e3c9f-ac7e-4913-903c-8371bbcc94ba",
   "metadata": {},
   "outputs": [],
   "source": [
    "#Dropping unnecessary columns and with more than 10% of null data\n",
    "df.drop(columns=['expected_num_interested_in_me','expected_num_matches','shared_interests_o','shared_interests_partner','has_null','ambitous_o','ambition_partner'],inplace=True)"
   ]
  },
  {
   "cell_type": "markdown",
   "id": "602105d8-cf90-4539-9c9d-a3b8376ba039",
   "metadata": {},
   "source": [
    "## Null values decision\n",
    "\n",
    "In this specific dataset, every data point is an individual preference of the person, so we can't just fill the null values with any type of aggregation, since that would not only alter our distribution, but it'll also change how the data behaves completely since the preferences play an important role in whether two people will match or not.\n",
    "\n",
    "Since this database is large enough, we decide to drop the row that has any missing values, in to be able to work with real and trustworthy data."
   ]
  },
  {
   "cell_type": "code",
   "execution_count": 8,
   "id": "aefd34b5-2110-44e4-bcc8-fb5bd68f5645",
   "metadata": {},
   "outputs": [],
   "source": [
    "#Dropping null values\n",
    "df.dropna(how='any', inplace=True)"
   ]
  },
  {
   "cell_type": "markdown",
   "id": "0cb76bb4-7d3d-4679-9e98-0516558cb966",
   "metadata": {},
   "source": [
    "## Evaluating the balance of our target variable"
   ]
  },
  {
   "cell_type": "code",
   "execution_count": 9,
   "id": "3ac364b7-921d-4952-8893-446660a6dbf6",
   "metadata": {},
   "outputs": [
    {
     "data": {
      "text/plain": [
       "match\n",
       "0    0.825682\n",
       "1    0.174318\n",
       "Name: proportion, dtype: float64"
      ]
     },
     "execution_count": 9,
     "metadata": {},
     "output_type": "execute_result"
    }
   ],
   "source": [
    "df.match.value_counts(normalize=True)"
   ]
  },
  {
   "cell_type": "markdown",
   "id": "bb83dc08-10c4-4395-895b-7f4782713d56",
   "metadata": {},
   "source": [
    "As we can see, we're looking at a data that is really unbalanced, since 82% of our target variable is 0, against just a 17% that's 1."
   ]
  },
  {
   "cell_type": "markdown",
   "id": "ff142ca2-86cf-409e-9558-5e56d0a020ca",
   "metadata": {},
   "source": [
    "## Exploring the columns\n",
    "\n",
    "This dataset in particular counts 116 columns, we need to somehow check what's the values on each one of them to be able to work with them correctly"
   ]
  },
  {
   "cell_type": "code",
   "execution_count": 10,
   "id": "ddb71b64-267e-4bdd-9280-adf632c6f441",
   "metadata": {},
   "outputs": [
    {
     "name": "stdout",
     "output_type": "stream",
     "text": [
      "<class 'pandas.core.frame.DataFrame'>\n",
      "Index: 7079 entries, 0 to 8377\n",
      "Columns: 116 entries, wave to match\n",
      "dtypes: float64(53), object(63)\n",
      "memory usage: 6.3+ MB\n"
     ]
    }
   ],
   "source": [
    "df.info()"
   ]
  },
  {
   "cell_type": "markdown",
   "id": "dfcc69dd-980a-49b4-9e08-961468841816",
   "metadata": {},
   "source": [
    "## Adjusting Object Columns\n",
    "\n",
    "We're going to now explore and evaluate the object columns and check if there's any preprocessing that can be done before splitting train and test data."
   ]
  },
  {
   "cell_type": "code",
   "execution_count": 11,
   "id": "2360c6e1-9bf7-448c-9234-d8c928680979",
   "metadata": {},
   "outputs": [
    {
     "name": "stdout",
     "output_type": "stream",
     "text": [
      "<class 'pandas.core.frame.DataFrame'>\n",
      "Index: 7079 entries, 0 to 8377\n",
      "Data columns (total 53 columns):\n",
      " #   Column                         Non-Null Count  Dtype  \n",
      "---  ------                         --------------  -----  \n",
      " 0   wave                           7079 non-null   float64\n",
      " 1   age                            7079 non-null   float64\n",
      " 2   age_o                          7079 non-null   float64\n",
      " 3   d_age                          7079 non-null   float64\n",
      " 4   importance_same_race           7079 non-null   float64\n",
      " 5   importance_same_religion       7079 non-null   float64\n",
      " 6   pref_o_attractive              7079 non-null   float64\n",
      " 7   pref_o_sincere                 7079 non-null   float64\n",
      " 8   pref_o_intelligence            7079 non-null   float64\n",
      " 9   pref_o_funny                   7079 non-null   float64\n",
      " 10  pref_o_ambitious               7079 non-null   float64\n",
      " 11  pref_o_shared_interests        7079 non-null   float64\n",
      " 12  attractive_o                   7079 non-null   float64\n",
      " 13  sinsere_o                      7079 non-null   float64\n",
      " 14  intelligence_o                 7079 non-null   float64\n",
      " 15  funny_o                        7079 non-null   float64\n",
      " 16  attractive_important           7079 non-null   float64\n",
      " 17  sincere_important              7079 non-null   float64\n",
      " 18  intellicence_important         7079 non-null   float64\n",
      " 19  funny_important                7079 non-null   float64\n",
      " 20  ambtition_important            7079 non-null   float64\n",
      " 21  shared_interests_important     7079 non-null   float64\n",
      " 22  attractive                     7079 non-null   float64\n",
      " 23  sincere                        7079 non-null   float64\n",
      " 24  intelligence                   7079 non-null   float64\n",
      " 25  funny                          7079 non-null   float64\n",
      " 26  ambition                       7079 non-null   float64\n",
      " 27  attractive_partner             7079 non-null   float64\n",
      " 28  sincere_partner                7079 non-null   float64\n",
      " 29  intelligence_partner           7079 non-null   float64\n",
      " 30  funny_partner                  7079 non-null   float64\n",
      " 31  sports                         7079 non-null   float64\n",
      " 32  tvsports                       7079 non-null   float64\n",
      " 33  exercise                       7079 non-null   float64\n",
      " 34  dining                         7079 non-null   float64\n",
      " 35  museums                        7079 non-null   float64\n",
      " 36  art                            7079 non-null   float64\n",
      " 37  hiking                         7079 non-null   float64\n",
      " 38  gaming                         7079 non-null   float64\n",
      " 39  clubbing                       7079 non-null   float64\n",
      " 40  reading                        7079 non-null   float64\n",
      " 41  tv                             7079 non-null   float64\n",
      " 42  theater                        7079 non-null   float64\n",
      " 43  movies                         7079 non-null   float64\n",
      " 44  concerts                       7079 non-null   float64\n",
      " 45  music                          7079 non-null   float64\n",
      " 46  shopping                       7079 non-null   float64\n",
      " 47  yoga                           7079 non-null   float64\n",
      " 48  interests_correlate            7079 non-null   float64\n",
      " 49  expected_happy_with_sd_people  7079 non-null   float64\n",
      " 50  like                           7079 non-null   float64\n",
      " 51  guess_prob_liked               7079 non-null   float64\n",
      " 52  met                            7079 non-null   float64\n",
      "dtypes: float64(53)\n",
      "memory usage: 2.9 MB\n"
     ]
    }
   ],
   "source": [
    "df.select_dtypes(include=['float64']).info()"
   ]
  },
  {
   "cell_type": "markdown",
   "id": "a29ee731-b42a-48a8-942b-54cc937d2c39",
   "metadata": {},
   "source": [
    "By exploring the columns, we notice that most of them are in some sort or ranking of preference, by exploring them individually we reallize that most of the columns that have that type move on the range from 0 to 10 or from 0 to 100. We can change those strings to 0,1 and 2, without creating any data leakage."
   ]
  },
  {
   "cell_type": "code",
   "execution_count": 12,
   "id": "166dd52c-33dc-48d7-b735-69b28bfe5803",
   "metadata": {},
   "outputs": [],
   "source": [
    "# We create empty list to be able to categorize the columns for further preprocessing.\n",
    "categorical_columns = []\n",
    "numerical_columns = []\n",
    "to_drop_columns = []\n",
    "binary_columns = []"
   ]
  },
  {
   "cell_type": "code",
   "execution_count": 13,
   "id": "3f916cde-6e42-47e9-824a-eb0ec6e1fca3",
   "metadata": {},
   "outputs": [],
   "source": [
    "#Move all the names of the columns to a list\n",
    "float_column_list = df.select_dtypes(include=['float64']).columns.tolist()\n",
    "object_column_list = df.select_dtypes(include=['object']).columns.tolist()\n",
    "#We create two list, one that will include the columns which values are within 1 and 10. And another for the same but with the range 1 to 100.\n",
    "# Also we include a list of the columns that won't include those two ranges.\n",
    "range_1_10 = []\n",
    "range_1_100 = []\n",
    "columns_to_analyze = []\n",
    "# Create also two list of the possible strings that we'll encounter in either of the columns to classify.\n",
    "\n",
    "string_ranges_1_100 = ['[0-15]','[16-20]','[21-100]']\n",
    "string_ranges_1_10 = ['[6-8]','[9-10]','[0-5]']\n",
    "\n",
    "#Evaluating if a value of the column falls into either category and adding them to the corresponding list.\n",
    "\n",
    "for column in object_column_list:\n",
    "    if df[column][0] in string_ranges_1_10:\n",
    "        range_1_10.append(column)\n",
    "    elif df[column][0] in string_ranges_1_100:\n",
    "        range_1_100.append(column)\n",
    "    else:\n",
    "        columns_to_analyze.append(column)\n",
    "\n",
    "# We also create a dictionary with the ranges, and the integer value we'd use to replace it. We'd only use 0,1,2 for this.\n",
    "\n",
    "dict_1_10 = {'[0-5]':0,'[6-8]':1,'[9-10]':2}\n",
    "dict_1_100 = {'[0-15]':0,'[16-20]':1,'[21-100]':2}\n",
    "\n",
    "#Replacing the values on the corresponding columns. Also adding the name into the numerical columns list to have them classified for further processing.\n",
    "\n",
    "for i in range_1_10:\n",
    "    df[i] = df[i].replace(dict_1_10)\n",
    "    numerical_columns.append(i)\n",
    "\n",
    "for i in range_1_100:\n",
    "    df[i] = df[i].replace(dict_1_100)\n",
    "    numerical_columns.append(i)"
   ]
  },
  {
   "cell_type": "code",
   "execution_count": 14,
   "id": "dd8c8390-d861-439d-bc02-98ebbec10f31",
   "metadata": {},
   "outputs": [
    {
     "data": {
      "text/plain": [
       "['gender',\n",
       " 'd_d_age',\n",
       " 'race',\n",
       " 'race_o',\n",
       " 'samerace',\n",
       " 'd_importance_same_race',\n",
       " 'd_importance_same_religion',\n",
       " 'field',\n",
       " 'd_interests_correlate',\n",
       " 'd_expected_happy_with_sd_people',\n",
       " 'd_expected_num_interested_in_me',\n",
       " 'd_expected_num_matches',\n",
       " 'd_guess_prob_liked',\n",
       " 'decision',\n",
       " 'decision_o',\n",
       " 'match']"
      ]
     },
     "execution_count": 14,
     "metadata": {},
     "output_type": "execute_result"
    }
   ],
   "source": [
    "#Checking the columns that didn't had part of that range and have to be analyzed based on something else.\n",
    "columns_to_analyze"
   ]
  },
  {
   "cell_type": "markdown",
   "id": "64bc7b10-ab44-4da9-83fc-57968b90b5c8",
   "metadata": {},
   "source": [
    "### Individual column analysis"
   ]
  },
  {
   "cell_type": "code",
   "execution_count": 15,
   "id": "7ff0b0fd-47e3-4311-a77d-fe0572072e52",
   "metadata": {},
   "outputs": [
    {
     "data": {
      "text/plain": [
       "gender\n",
       "female    3542\n",
       "male      3537\n",
       "Name: count, dtype: int64"
      ]
     },
     "execution_count": 15,
     "metadata": {},
     "output_type": "execute_result"
    }
   ],
   "source": [
    "df['gender'].value_counts()"
   ]
  },
  {
   "cell_type": "code",
   "execution_count": 16,
   "id": "d683cbc2-5b3a-4bc5-8d9e-2c71d05d6078",
   "metadata": {},
   "outputs": [],
   "source": [
    "#Add to our categorical columns, eliminate from the 'columns_to_analyze' list.\n",
    "categorical_columns.append('gender')\n",
    "columns_to_analyze.remove('gender')"
   ]
  },
  {
   "cell_type": "code",
   "execution_count": 17,
   "id": "31ee0244-08c6-45d1-beb8-ee3171358f41",
   "metadata": {},
   "outputs": [
    {
     "data": {
      "text/plain": [
       "d_d_age\n",
       "[2-3]     2093\n",
       "[4-6]     1998\n",
       "[0-1]     1937\n",
       "[7-37]    1051\n",
       "Name: count, dtype: int64"
      ]
     },
     "execution_count": 17,
     "metadata": {},
     "output_type": "execute_result"
    }
   ],
   "source": [
    "df.d_d_age.value_counts()"
   ]
  },
  {
   "cell_type": "markdown",
   "id": "b645bbfc-911c-447a-81a9-5a7b51022c08",
   "metadata": {},
   "source": [
    "This column is too similar to the 'd_age' one, one shows the difference on age, and the other just shows a range of difference.\n",
    "\n",
    "Being this the case, we'll drop d_d_age"
   ]
  },
  {
   "cell_type": "code",
   "execution_count": 18,
   "id": "992b21ba-4fe5-4cc5-9338-52d19a220771",
   "metadata": {},
   "outputs": [],
   "source": [
    "# Adding to the to_drop_columns and remove from the columns_to_analyze\n",
    "to_drop_columns.append('d_d_age')\n",
    "columns_to_analyze.remove('d_d_age')"
   ]
  },
  {
   "cell_type": "code",
   "execution_count": 19,
   "id": "cd730420-72a0-446f-9dba-297ced62e68f",
   "metadata": {},
   "outputs": [
    {
     "data": {
      "text/plain": [
       "race\n",
       "European/Caucasian-American              3992\n",
       "Asian/Pacific Islander/Asian-American    1721\n",
       "Latino/Hispanic American                  552\n",
       "Other                                     477\n",
       "Black/African American                    337\n",
       "Name: count, dtype: int64"
      ]
     },
     "execution_count": 19,
     "metadata": {},
     "output_type": "execute_result"
    }
   ],
   "source": [
    "df['race'].value_counts()"
   ]
  },
  {
   "cell_type": "markdown",
   "id": "e2889128-1ed7-4e12-9af8-79b4515ee07b",
   "metadata": {},
   "source": [
    "For this column, we just need to clean the name values to make them shorter."
   ]
  },
  {
   "cell_type": "code",
   "execution_count": 20,
   "id": "2631de11-a593-4dbe-97cb-fb77329009d1",
   "metadata": {},
   "outputs": [],
   "source": [
    "# Creating a dictionary to set shorter names for the different categories\n",
    "race_dict = {'European/Caucasian-American': 'Caucasian',\n",
    "             'Asian/Pacific Islander/Asian-American':'Asian',\n",
    "             'Latino/Hispanic American':'Latino',\n",
    "             'Black/African American':'Black'\n",
    "            }\n",
    "\n",
    "# Replacing the values for the shorter name, and adding the column to the categorical_column list\n",
    "df['race'] = df['race'].replace(race_dict)\n",
    "categorical_columns.append('race')\n",
    "columns_to_analyze.remove('race')"
   ]
  },
  {
   "cell_type": "code",
   "execution_count": 21,
   "id": "f37ee9e0-9fb5-42e6-8fef-12c266364149",
   "metadata": {},
   "outputs": [
    {
     "data": {
      "text/plain": [
       "race_o\n",
       "European/Caucasian-American              3965\n",
       "Asian/Pacific Islander/Asian-American    1735\n",
       "Latino/Hispanic American                  567\n",
       "Other                                     467\n",
       "Black/African American                    345\n",
       "Name: count, dtype: int64"
      ]
     },
     "execution_count": 21,
     "metadata": {},
     "output_type": "execute_result"
    }
   ],
   "source": [
    "df['race_o'].value_counts()"
   ]
  },
  {
   "cell_type": "code",
   "execution_count": 22,
   "id": "8605526c-b3b4-4db7-b703-335e7f22ca99",
   "metadata": {},
   "outputs": [],
   "source": [
    "# Applying same principle to the race_o column\n",
    "df['race_o'] = df['race_o'].replace(race_dict)\n",
    "categorical_columns.append('race_o')\n",
    "columns_to_analyze.remove('race_o')"
   ]
  },
  {
   "cell_type": "markdown",
   "id": "a0a949b0-60a6-4617-89b6-a582869dc307",
   "metadata": {},
   "source": [
    "## Same Race\n",
    "\n",
    "This column is directly related to the other two that we just evaluate. there's a correlation there, since if both column 'race' and column 'race_o' have the same value, we can predict the value of the 'samerace' column. We'd add to to the to_drop list."
   ]
  },
  {
   "cell_type": "code",
   "execution_count": 23,
   "id": "ff3474e1-6b34-490d-b323-c346c0c2a3c0",
   "metadata": {},
   "outputs": [],
   "source": [
    "to_drop_columns.append('samerace')\n",
    "columns_to_analyze.remove('samerace')"
   ]
  },
  {
   "cell_type": "code",
   "execution_count": 24,
   "id": "3f3af791-79b4-4042-953f-45539d3c0916",
   "metadata": {},
   "outputs": [
    {
     "data": {
      "text/plain": [
       "d_importance_same_race\n",
       "[2-5]     2654\n",
       "[0-1]     2379\n",
       "[6-10]    2046\n",
       "Name: count, dtype: int64"
      ]
     },
     "execution_count": 24,
     "metadata": {},
     "output_type": "execute_result"
    }
   ],
   "source": [
    "df['d_importance_same_race'].value_counts()"
   ]
  },
  {
   "cell_type": "markdown",
   "id": "7a17f58a-c8c3-4e86-a554-68911b9ec935",
   "metadata": {},
   "source": [
    "We notice here, and below we'll confirm, that many of our columns have that string notation some different ranges, we're going to transform them in ordinal values to make it usable for our models.\n",
    "\n",
    "We'll create a function to transform this one an any further column with the same style, also, it'll automatically add it to our numerical_columns list and remove it from the columns_to_analyze"
   ]
  },
  {
   "cell_type": "code",
   "execution_count": 25,
   "id": "96753923-d0dd-4231-9809-cdb59eaa136e",
   "metadata": {},
   "outputs": [],
   "source": [
    "#Creating the transforming dictionary\n",
    "def range_trans(column, dict):\n",
    "    df[column] = df[column].replace(dict)\n",
    "    numerical_columns.append(column)\n",
    "    columns_to_analyze.remove(column)"
   ]
  },
  {
   "cell_type": "code",
   "execution_count": 26,
   "id": "122f6e8c-407a-4602-ab21-b699b03c5803",
   "metadata": {},
   "outputs": [
    {
     "data": {
      "text/plain": [
       "d_importance_same_race\n",
       "[2-5]     2654\n",
       "[0-1]     2379\n",
       "[6-10]    2046\n",
       "Name: count, dtype: int64"
      ]
     },
     "execution_count": 26,
     "metadata": {},
     "output_type": "execute_result"
    }
   ],
   "source": [
    "df['d_importance_same_race'].value_counts()"
   ]
  },
  {
   "cell_type": "code",
   "execution_count": 27,
   "id": "557b05c3-4523-4853-bcb9-24b342ceae26",
   "metadata": {},
   "outputs": [],
   "source": [
    "# Transforming the ranges into integers and adding it to the numerical_colums list\n",
    "importance_dict = {'[2-5]':1,'[0-1]':0,'[6-10]':2}\n",
    "range_trans('d_importance_same_race',importance_dict)"
   ]
  },
  {
   "cell_type": "code",
   "execution_count": 28,
   "id": "a00ccd2b-ba62-4ca8-99c0-1d21088c3bcd",
   "metadata": {},
   "outputs": [
    {
     "data": {
      "text/plain": [
       "d_importance_same_religion\n",
       "[0-1]     2585\n",
       "[2-5]     2555\n",
       "[6-10]    1939\n",
       "Name: count, dtype: int64"
      ]
     },
     "execution_count": 28,
     "metadata": {},
     "output_type": "execute_result"
    }
   ],
   "source": [
    "df['d_importance_same_religion'].value_counts()"
   ]
  },
  {
   "cell_type": "code",
   "execution_count": 29,
   "id": "97565df1-423a-441f-8f46-405a08a4ad3a",
   "metadata": {},
   "outputs": [],
   "source": [
    "# Transforming the ranges into integers and adding it to the numerical_colums list\n",
    "range_trans('d_importance_same_religion',importance_dict)"
   ]
  },
  {
   "cell_type": "code",
   "execution_count": 30,
   "id": "81bcb306-9f0f-4b03-a234-efff00b8d375",
   "metadata": {},
   "outputs": [
    {
     "data": {
      "text/plain": [
       "d_interests_correlate\n",
       "[0-0.33]    2626\n",
       "[0.33-1]    2559\n",
       "[-1-0]      1894\n",
       "Name: count, dtype: int64"
      ]
     },
     "execution_count": 30,
     "metadata": {},
     "output_type": "execute_result"
    }
   ],
   "source": [
    "df['d_interests_correlate'].value_counts()"
   ]
  },
  {
   "cell_type": "code",
   "execution_count": 31,
   "id": "5d15df14-0f3c-4598-a118-6010ae1c083c",
   "metadata": {},
   "outputs": [],
   "source": [
    "# Creating new dictionary adapted to this column's ranges and transforming\n",
    "corr_dict = {'[-1-0]':0,'[0-0.33]':1,'[0.33-1]':2}\n",
    "range_trans('d_interests_correlate',corr_dict)"
   ]
  },
  {
   "cell_type": "code",
   "execution_count": 32,
   "id": "e0402b6b-6af2-4cdd-acd6-7a89d7efe73e",
   "metadata": {},
   "outputs": [
    {
     "data": {
      "text/plain": [
       "d_expected_happy_with_sd_people\n",
       "[5-6]     3500\n",
       "[7-10]    1948\n",
       "[0-4]     1631\n",
       "Name: count, dtype: int64"
      ]
     },
     "execution_count": 32,
     "metadata": {},
     "output_type": "execute_result"
    }
   ],
   "source": [
    "df['d_expected_happy_with_sd_people'].value_counts()"
   ]
  },
  {
   "cell_type": "code",
   "execution_count": 33,
   "id": "b6174129-261a-4651-816f-1f0b4c5b9733",
   "metadata": {},
   "outputs": [],
   "source": [
    "# Creating new dictionary adapted to this column's ranges and transforming\n",
    "expectation_dict = {'[0-4]':0,'[5-6]':1,'[7-10]':2}\n",
    "range_trans('d_expected_happy_with_sd_people',expectation_dict)"
   ]
  },
  {
   "cell_type": "code",
   "execution_count": 34,
   "id": "e59ea8dd-f6fb-44bd-895a-b1f34f5870af",
   "metadata": {},
   "outputs": [
    {
     "data": {
      "text/plain": [
       "d_expected_num_interested_in_me\n",
       "[0-3]      6208\n",
       "[4-9]       542\n",
       "[10-20]     329\n",
       "Name: count, dtype: int64"
      ]
     },
     "execution_count": 34,
     "metadata": {},
     "output_type": "execute_result"
    }
   ],
   "source": [
    "df['d_expected_num_interested_in_me'].value_counts()"
   ]
  },
  {
   "cell_type": "code",
   "execution_count": 35,
   "id": "dac3b2ed-fd70-4044-b899-cf672646cbf5",
   "metadata": {},
   "outputs": [],
   "source": [
    "# Creating new dictionary adapted to this column's ranges and transforming\n",
    "expectation_dict2 = {'[0-3]':0,'[4-9]':1,'[10-20]':2}\n",
    "range_trans('d_expected_num_interested_in_me',expectation_dict2)"
   ]
  },
  {
   "cell_type": "code",
   "execution_count": 36,
   "id": "724ee2a7-0108-4667-851a-79d35bfc6682",
   "metadata": {},
   "outputs": [
    {
     "data": {
      "text/plain": [
       "d_expected_num_matches\n",
       "[0-2]     3752\n",
       "[3-5]     2473\n",
       "[5-18]     854\n",
       "Name: count, dtype: int64"
      ]
     },
     "execution_count": 36,
     "metadata": {},
     "output_type": "execute_result"
    }
   ],
   "source": [
    "df['d_expected_num_matches'].value_counts()"
   ]
  },
  {
   "cell_type": "code",
   "execution_count": 37,
   "id": "83896492-4a62-45fb-a9f9-f12889b84ed5",
   "metadata": {},
   "outputs": [],
   "source": [
    "# Creating new dictionary adapted to this column's ranges and transforming\n",
    "expectation_dict3 = {'[0-2]':0,'[3-5]':1,'[5-18]':2}\n",
    "range_trans('d_expected_num_matches',expectation_dict3)"
   ]
  },
  {
   "cell_type": "code",
   "execution_count": 38,
   "id": "f71b8ff6-9042-4a3f-a134-46503fbb8aa1",
   "metadata": {},
   "outputs": [
    {
     "data": {
      "text/plain": [
       "d_guess_prob_liked\n",
       "[5-6]     2840\n",
       "[0-4]     2256\n",
       "[7-10]    1983\n",
       "Name: count, dtype: int64"
      ]
     },
     "execution_count": 38,
     "metadata": {},
     "output_type": "execute_result"
    }
   ],
   "source": [
    "df['d_guess_prob_liked'].value_counts()"
   ]
  },
  {
   "cell_type": "code",
   "execution_count": 39,
   "id": "ca415af2-308c-4512-86d8-741fb4ce6c84",
   "metadata": {},
   "outputs": [],
   "source": [
    "range_trans('d_guess_prob_liked',expectation_dict)"
   ]
  },
  {
   "cell_type": "markdown",
   "id": "c0dd37bd-231f-4f67-afe7-711a166ff692",
   "metadata": {},
   "source": [
    "For the 'decision' and 'decision_o' columns, there're going to be making noise on my model, since just by loooking at the two of them I can tell the target variable, therefore I'll proceed to add them to the to_drop_columns and remove them from the columns to analyze."
   ]
  },
  {
   "cell_type": "code",
   "execution_count": 40,
   "id": "4147e90c-7c1d-4f34-9112-3ab1e7947c77",
   "metadata": {},
   "outputs": [],
   "source": [
    "to_drop_columns.append('decision')\n",
    "to_drop_columns.append('decision_o')\n",
    "columns_to_analyze.remove('decision')\n",
    "columns_to_analyze.remove('decision_o')"
   ]
  },
  {
   "cell_type": "code",
   "execution_count": 41,
   "id": "cf0d1e26-a7d2-40fe-a5a9-6ff5a7dfa002",
   "metadata": {},
   "outputs": [],
   "source": [
    "#Removing all the unnecessary columns\n",
    "df = df.drop(columns=to_drop_columns)"
   ]
  },
  {
   "cell_type": "markdown",
   "id": "4b065b87-a09a-4e18-badb-00ecc180c275",
   "metadata": {},
   "source": [
    "Now, we're going to observe the values of our column list so evaluate if everything is in order."
   ]
  },
  {
   "cell_type": "code",
   "execution_count": 42,
   "id": "42676773-245a-45ac-a26d-d4d90bb0041c",
   "metadata": {},
   "outputs": [
    {
     "name": "stdout",
     "output_type": "stream",
     "text": [
      "wave\n",
      "11.0    796\n",
      "21.0    774\n",
      "9.0     697\n",
      "4.0     574\n",
      "15.0    568\n",
      "14.0    556\n",
      "2.0     486\n",
      "7.0     470\n",
      "19.0    396\n",
      "12.0    348\n",
      "17.0    261\n",
      "1.0     192\n",
      "8.0     167\n",
      "3.0     154\n",
      "10.0    143\n",
      "5.0     128\n",
      "13.0    124\n",
      "16.0     84\n",
      "20.0     76\n",
      "18.0     55\n",
      "6.0      30\n",
      "Name: count, dtype: int64\n",
      "age\n",
      "27.0    892\n",
      "23.0    806\n",
      "24.0    770\n",
      "25.0    741\n",
      "26.0    703\n",
      "28.0    659\n",
      "22.0    565\n",
      "30.0    477\n",
      "29.0    466\n",
      "21.0    249\n",
      "32.0    182\n",
      "33.0    143\n",
      "34.0    121\n",
      "31.0    119\n",
      "35.0     55\n",
      "20.0     36\n",
      "36.0     35\n",
      "42.0     18\n",
      "38.0     16\n",
      "19.0      9\n",
      "18.0      8\n",
      "55.0      5\n",
      "39.0      2\n",
      "37.0      2\n",
      "Name: count, dtype: int64\n",
      "age_o\n",
      "27.0    885\n",
      "23.0    795\n",
      "24.0    757\n",
      "25.0    735\n",
      "26.0    731\n",
      "28.0    653\n",
      "22.0    556\n",
      "30.0    500\n",
      "29.0    479\n",
      "21.0    250\n",
      "32.0    178\n",
      "33.0    141\n",
      "34.0    123\n",
      "31.0    114\n",
      "35.0     54\n",
      "36.0     35\n",
      "20.0     34\n",
      "42.0     18\n",
      "38.0     14\n",
      "19.0     12\n",
      "18.0      7\n",
      "55.0      4\n",
      "37.0      2\n",
      "39.0      2\n",
      "Name: count, dtype: int64\n",
      "d_age\n",
      "1.0     1331\n",
      "2.0     1111\n",
      "3.0      982\n",
      "4.0      815\n",
      "5.0      675\n",
      "0.0      606\n",
      "6.0      508\n",
      "7.0      371\n",
      "8.0      236\n",
      "9.0      153\n",
      "10.0     110\n",
      "11.0      60\n",
      "12.0      32\n",
      "14.0      22\n",
      "13.0      18\n",
      "15.0      12\n",
      "17.0      10\n",
      "19.0       6\n",
      "22.0       6\n",
      "16.0       4\n",
      "18.0       4\n",
      "20.0       4\n",
      "28.0       2\n",
      "32.0       1\n",
      "Name: count, dtype: int64\n",
      "importance_same_race\n",
      "1.0     2373\n",
      "3.0      876\n",
      "2.0      812\n",
      "5.0      572\n",
      "8.0      567\n",
      "6.0      470\n",
      "7.0      453\n",
      "4.0      394\n",
      "9.0      370\n",
      "10.0     186\n",
      "0.0        6\n",
      "Name: count, dtype: int64\n",
      "importance_same_religion\n",
      "1.0     2585\n",
      "3.0      794\n",
      "2.0      752\n",
      "5.0      589\n",
      "6.0      585\n",
      "8.0      451\n",
      "4.0      420\n",
      "7.0      365\n",
      "10.0     282\n",
      "9.0      256\n",
      "Name: count, dtype: int64\n",
      "pref_o_attractive\n",
      "20.00    1424\n",
      "15.00     768\n",
      "25.00     687\n",
      "10.00     681\n",
      "30.00     590\n",
      "         ... \n",
      "9.00        7\n",
      "19.44       7\n",
      "12.77       5\n",
      "20.83       3\n",
      "18.75       2\n",
      "Name: count, Length: 92, dtype: int64\n",
      "pref_o_sincere\n",
      "20.00    1914\n",
      "10.00     853\n",
      "15.00     841\n",
      "25.00     553\n",
      "30.00     299\n",
      "         ... \n",
      "15.09      10\n",
      "22.50       9\n",
      "17.86       9\n",
      "20.41       9\n",
      "22.73       1\n",
      "Name: count, Length: 77, dtype: int64\n",
      "pref_o_intelligence\n",
      "20.00    2276\n",
      "25.00     851\n",
      "30.00     548\n",
      "15.00     538\n",
      "10.00     481\n",
      "         ... \n",
      "27.27      10\n",
      "17.50       9\n",
      "17.86       9\n",
      "2.00        9\n",
      "11.11       9\n",
      "Name: count, Length: 65, dtype: int64\n",
      "pref_o_funny\n",
      "20.00    1854\n",
      "15.00    1017\n",
      "10.00     989\n",
      "25.00     508\n",
      "30.00     254\n",
      "         ... \n",
      "2.00        9\n",
      "11.11       9\n",
      "17.86       9\n",
      "20.83       2\n",
      "13.64       1\n",
      "Name: count, Length: 71, dtype: int64\n",
      "pref_o_ambitious\n",
      "10.00    1675\n",
      "15.00    1013\n",
      "5.00      989\n",
      "0.00      692\n",
      "20.00     439\n",
      "         ... \n",
      "19.00       8\n",
      "53.00       7\n",
      "6.25        3\n",
      "6.67        3\n",
      "13.21       1\n",
      "Name: count, Length: 82, dtype: int64\n",
      "pref_o_shared_interests\n",
      "10.00    1707\n",
      "15.00     893\n",
      "20.00     828\n",
      "5.00      817\n",
      "0.00      599\n",
      "         ... \n",
      "21.00       7\n",
      "19.00       7\n",
      "19.15       5\n",
      "9.00        4\n",
      "16.98       1\n",
      "Name: count, Length: 85, dtype: int64\n",
      "attractive_o\n",
      "7.0     1439\n",
      "6.0     1428\n",
      "5.0     1083\n",
      "8.0     1070\n",
      "4.0      654\n",
      "9.0      481\n",
      "3.0      331\n",
      "10.0     278\n",
      "2.0      208\n",
      "1.0       85\n",
      "0.0        6\n",
      "6.5        6\n",
      "7.5        3\n",
      "9.5        3\n",
      "8.5        1\n",
      "9.9        1\n",
      "10.5       1\n",
      "3.5        1\n",
      "Name: count, dtype: int64\n",
      "sinsere_o\n",
      "8.0     1781\n",
      "7.0     1680\n",
      "6.0     1090\n",
      "9.0      818\n",
      "10.0     645\n",
      "5.0      614\n",
      "4.0      238\n",
      "3.0      114\n",
      "2.0       58\n",
      "1.0       31\n",
      "0.0        7\n",
      "8.5        2\n",
      "7.5        1\n",
      "Name: count, dtype: int64\n",
      "intelligence_o\n",
      "8.0     1920\n",
      "7.0     1806\n",
      "6.0     1011\n",
      "9.0      963\n",
      "10.0     599\n",
      "5.0      540\n",
      "4.0      141\n",
      "3.0       57\n",
      "2.0       18\n",
      "1.0       11\n",
      "7.5        4\n",
      "0.0        3\n",
      "8.5        2\n",
      "6.5        1\n",
      "9.5        1\n",
      "2.5        1\n",
      "5.5        1\n",
      "Name: count, dtype: int64\n",
      "funny_o\n",
      "7.0     1479\n",
      "6.0     1351\n",
      "8.0     1283\n",
      "5.0     1022\n",
      "9.0      536\n",
      "4.0      531\n",
      "10.0     343\n",
      "3.0      243\n",
      "2.0      187\n",
      "1.0       86\n",
      "0.0       10\n",
      "6.5        2\n",
      "7.5        2\n",
      "5.5        1\n",
      "9.5        1\n",
      "8.5        1\n",
      "11.0       1\n",
      "Name: count, dtype: int64\n",
      "attractive_important\n",
      "20.00    1429\n",
      "15.00     769\n",
      "25.00     703\n",
      "10.00     682\n",
      "30.00     587\n",
      "         ... \n",
      "9.00        7\n",
      "19.44       7\n",
      "12.77       5\n",
      "20.83       3\n",
      "18.75       2\n",
      "Name: count, Length: 91, dtype: int64\n",
      "sincere_important\n",
      "20.00    1887\n",
      "10.00     862\n",
      "15.00     849\n",
      "25.00     563\n",
      "30.00     310\n",
      "         ... \n",
      "21.74       9\n",
      "22.50       9\n",
      "12.00       9\n",
      "17.86       8\n",
      "22.73       1\n",
      "Name: count, Length: 76, dtype: int64\n",
      "intellicence_important\n",
      "20.00    2291\n",
      "25.00     863\n",
      "15.00     551\n",
      "30.00     546\n",
      "10.00     460\n",
      "         ... \n",
      "1.00       10\n",
      "17.50       9\n",
      "2.00        9\n",
      "17.39       9\n",
      "17.86       8\n",
      "Name: count, Length: 65, dtype: int64\n",
      "funny_important\n",
      "20.00    1838\n",
      "15.00    1037\n",
      "10.00    1016\n",
      "25.00     510\n",
      "30.00     245\n",
      "         ... \n",
      "14.29       9\n",
      "2.00        9\n",
      "17.86       8\n",
      "20.83       2\n",
      "13.64       1\n",
      "Name: count, Length: 70, dtype: int64\n",
      "ambtition_important\n",
      "10.00    1689\n",
      "15.00    1040\n",
      "5.00      985\n",
      "0.00      698\n",
      "20.00     428\n",
      "         ... \n",
      "17.86       8\n",
      "53.00       7\n",
      "6.67        3\n",
      "6.25        3\n",
      "13.21       1\n",
      "Name: count, Length: 82, dtype: int64\n",
      "shared_interests_important\n",
      "10.00    1714\n",
      "15.00     904\n",
      "20.00     833\n",
      "5.00      819\n",
      "0.00      600\n",
      "         ... \n",
      "17.39       8\n",
      "19.00       7\n",
      "9.00        5\n",
      "19.15       5\n",
      "16.98       1\n",
      "Name: count, Length: 85, dtype: int64\n",
      "attractive\n",
      "7.0     2486\n",
      "8.0     1882\n",
      "6.0      964\n",
      "9.0      622\n",
      "5.0      551\n",
      "10.0     244\n",
      "4.0      209\n",
      "3.0      103\n",
      "2.0       18\n",
      "Name: count, dtype: int64\n",
      "sincere\n",
      "9.0     2069\n",
      "8.0     1891\n",
      "10.0    1490\n",
      "7.0      977\n",
      "6.0      368\n",
      "5.0      143\n",
      "4.0       89\n",
      "2.0       31\n",
      "3.0       21\n",
      "Name: count, dtype: int64\n",
      "intelligence\n",
      "8.0     1882\n",
      "9.0     1547\n",
      "7.0     1491\n",
      "10.0     810\n",
      "6.0      805\n",
      "5.0      309\n",
      "3.0       99\n",
      "4.0       88\n",
      "2.0       48\n",
      "Name: count, dtype: int64\n",
      "funny\n",
      "8.0     2411\n",
      "9.0     2287\n",
      "10.0    1165\n",
      "7.0      955\n",
      "6.0      172\n",
      "5.0       70\n",
      "4.0       10\n",
      "3.0        9\n",
      "Name: count, dtype: int64\n",
      "ambition\n",
      "8.0     1675\n",
      "9.0     1424\n",
      "7.0     1384\n",
      "10.0     992\n",
      "6.0      596\n",
      "5.0      562\n",
      "4.0      227\n",
      "3.0      127\n",
      "2.0       92\n",
      "Name: count, dtype: int64\n",
      "attractive_partner\n",
      "6.0     1440\n",
      "7.0     1437\n",
      "8.0     1076\n",
      "5.0     1072\n",
      "4.0      655\n",
      "9.0      475\n",
      "3.0      336\n",
      "10.0     269\n",
      "2.0      213\n",
      "1.0       85\n",
      "0.0        6\n",
      "6.5        6\n",
      "7.5        3\n",
      "9.5        3\n",
      "8.5        1\n",
      "9.9        1\n",
      "3.5        1\n",
      "Name: count, dtype: int64\n",
      "sincere_partner\n",
      "8.0     1791\n",
      "7.0     1678\n",
      "6.0     1098\n",
      "9.0      821\n",
      "10.0     638\n",
      "5.0      601\n",
      "4.0      238\n",
      "3.0      116\n",
      "2.0       61\n",
      "1.0       27\n",
      "0.0        7\n",
      "8.5        2\n",
      "7.5        1\n",
      "Name: count, dtype: int64\n",
      "intelligence_partner\n",
      "8.0     1932\n",
      "7.0     1806\n",
      "6.0     1015\n",
      "9.0      970\n",
      "10.0     583\n",
      "5.0      535\n",
      "4.0      143\n",
      "3.0       54\n",
      "2.0       20\n",
      "1.0        9\n",
      "0.0        3\n",
      "7.5        3\n",
      "8.5        2\n",
      "6.5        1\n",
      "9.5        1\n",
      "2.5        1\n",
      "5.5        1\n",
      "Name: count, dtype: int64\n",
      "funny_partner\n",
      "7.0     1498\n",
      "6.0     1370\n",
      "8.0     1271\n",
      "5.0     1008\n",
      "9.0      534\n",
      "4.0      531\n",
      "10.0     339\n",
      "3.0      243\n",
      "2.0      187\n",
      "1.0       81\n",
      "0.0       10\n",
      "6.5        2\n",
      "7.5        2\n",
      "5.5        1\n",
      "9.5        1\n",
      "8.5        1\n",
      "Name: count, dtype: int64\n",
      "sports\n",
      "8.0     1126\n",
      "7.0     1012\n",
      "10.0     909\n",
      "9.0      873\n",
      "5.0      724\n",
      "6.0      676\n",
      "3.0      582\n",
      "4.0      489\n",
      "2.0      407\n",
      "1.0      281\n",
      "Name: count, dtype: int64\n",
      "tvsports\n",
      "1.0     1280\n",
      "2.0      956\n",
      "7.0      809\n",
      "3.0      779\n",
      "5.0      734\n",
      "4.0      630\n",
      "8.0      602\n",
      "6.0      569\n",
      "9.0      406\n",
      "10.0     314\n",
      "Name: count, dtype: int64\n",
      "exercise\n",
      "8.0     1137\n",
      "7.0     1033\n",
      "6.0     1012\n",
      "5.0      916\n",
      "9.0      756\n",
      "10.0     612\n",
      "4.0      503\n",
      "3.0      487\n",
      "2.0      396\n",
      "1.0      227\n",
      "Name: count, dtype: int64\n",
      "dining\n",
      "8.0     1631\n",
      "9.0     1419\n",
      "10.0    1349\n",
      "7.0     1281\n",
      "6.0      630\n",
      "5.0      526\n",
      "4.0      141\n",
      "3.0       58\n",
      "1.0       28\n",
      "2.0       16\n",
      "Name: count, dtype: int64\n",
      "museums\n",
      "7.0     1555\n",
      "8.0     1393\n",
      "9.0     1061\n",
      "6.0      788\n",
      "10.0     743\n",
      "5.0      654\n",
      "4.0      433\n",
      "3.0      331\n",
      "2.0       69\n",
      "1.0       52\n",
      "Name: count, dtype: int64\n",
      "art\n",
      "8.0     1548\n",
      "7.0     1173\n",
      "10.0     837\n",
      "5.0      835\n",
      "6.0      753\n",
      "9.0      724\n",
      "3.0      503\n",
      "4.0      455\n",
      "2.0      167\n",
      "1.0       84\n",
      "Name: count, dtype: int64\n",
      "hiking\n",
      "8.0     1037\n",
      "7.0      936\n",
      "6.0      899\n",
      "3.0      789\n",
      "5.0      768\n",
      "2.0      620\n",
      "4.0      587\n",
      "9.0      565\n",
      "10.0     502\n",
      "1.0      359\n",
      "0.0       17\n",
      "Name: count, dtype: int64\n",
      "gaming\n",
      "1.0     1656\n",
      "2.0     1040\n",
      "3.0      900\n",
      "5.0      881\n",
      "7.0      675\n",
      "6.0      643\n",
      "4.0      637\n",
      "8.0      338\n",
      "9.0      176\n",
      "14.0      74\n",
      "0.0       32\n",
      "10.0      27\n",
      "Name: count, dtype: int64\n",
      "clubbing\n",
      "8.0     1209\n",
      "7.0     1121\n",
      "6.0      975\n",
      "9.0      843\n",
      "5.0      782\n",
      "1.0      669\n",
      "3.0      611\n",
      "4.0      516\n",
      "2.0      279\n",
      "10.0      74\n",
      "Name: count, dtype: int64\n",
      "reading\n",
      "9.0     1735\n",
      "8.0     1387\n",
      "10.0    1192\n",
      "7.0     1060\n",
      "6.0      650\n",
      "5.0      477\n",
      "4.0      201\n",
      "3.0      198\n",
      "2.0      123\n",
      "13.0      48\n",
      "1.0        8\n",
      "Name: count, dtype: int64\n",
      "tv\n",
      "6.0     1147\n",
      "5.0      931\n",
      "8.0      883\n",
      "7.0      875\n",
      "1.0      749\n",
      "4.0      700\n",
      "3.0      540\n",
      "2.0      530\n",
      "9.0      404\n",
      "10.0     320\n",
      "Name: count, dtype: int64\n",
      "theater\n",
      "7.0     1377\n",
      "8.0     1122\n",
      "9.0     1077\n",
      "5.0      847\n",
      "6.0      814\n",
      "10.0     761\n",
      "4.0      437\n",
      "3.0      364\n",
      "2.0      162\n",
      "1.0      118\n",
      "Name: count, dtype: int64\n",
      "movies\n",
      "8.0     1733\n",
      "9.0     1643\n",
      "10.0    1323\n",
      "7.0     1286\n",
      "6.0      506\n",
      "5.0      310\n",
      "4.0      142\n",
      "3.0       95\n",
      "2.0       41\n",
      "Name: count, dtype: int64\n",
      "concerts\n",
      "7.0     1285\n",
      "8.0     1196\n",
      "6.0     1045\n",
      "9.0     1028\n",
      "5.0      759\n",
      "10.0     733\n",
      "4.0      420\n",
      "3.0      356\n",
      "2.0      191\n",
      "1.0       66\n",
      "Name: count, dtype: int64\n",
      "music\n",
      "10.0    1504\n",
      "8.0     1425\n",
      "9.0     1385\n",
      "7.0     1349\n",
      "6.0      644\n",
      "5.0      501\n",
      "4.0      187\n",
      "2.0       39\n",
      "3.0       24\n",
      "1.0       21\n",
      "Name: count, dtype: int64\n",
      "shopping\n",
      "7.0     1053\n",
      "5.0      955\n",
      "6.0      867\n",
      "2.0      768\n",
      "8.0      717\n",
      "9.0      703\n",
      "4.0      612\n",
      "10.0     514\n",
      "3.0      476\n",
      "1.0      414\n",
      "Name: count, dtype: int64\n",
      "yoga\n",
      "1.0     1298\n",
      "2.0     1004\n",
      "3.0      916\n",
      "7.0      740\n",
      "5.0      710\n",
      "6.0      708\n",
      "4.0      621\n",
      "8.0      417\n",
      "9.0      380\n",
      "10.0     267\n",
      "0.0       18\n",
      "Name: count, dtype: int64\n",
      "interests_correlate\n",
      " 0.31    122\n",
      " 0.13    109\n",
      " 0.43    104\n",
      " 0.24    103\n",
      " 0.19    100\n",
      "        ... \n",
      " 0.87      2\n",
      " 0.91      2\n",
      " 0.84      2\n",
      "-0.64      2\n",
      "-0.73      2\n",
      "Name: count, Length: 154, dtype: int64\n",
      "expected_happy_with_sd_people\n",
      "6.0     1752\n",
      "5.0     1748\n",
      "7.0     1229\n",
      "4.0      651\n",
      "3.0      619\n",
      "8.0      445\n",
      "2.0      255\n",
      "9.0      174\n",
      "1.0      106\n",
      "10.0     100\n",
      "Name: count, dtype: int64\n",
      "like\n",
      "7.0     1600\n",
      "6.0     1533\n",
      "5.0     1123\n",
      "8.0     1107\n",
      "4.0      555\n",
      "9.0      359\n",
      "3.0      343\n",
      "2.0      183\n",
      "10.0     153\n",
      "1.0       85\n",
      "6.5       14\n",
      "8.5        8\n",
      "7.5        5\n",
      "0.0        4\n",
      "9.5        3\n",
      "4.5        2\n",
      "5.5        1\n",
      "9.7        1\n",
      "Name: count, dtype: int64\n",
      "guess_prob_liked\n",
      "5.0     1586\n",
      "6.0     1252\n",
      "7.0     1013\n",
      "4.0      817\n",
      "3.0      610\n",
      "8.0      574\n",
      "2.0      449\n",
      "1.0      338\n",
      "9.0      216\n",
      "10.0     171\n",
      "0.0       40\n",
      "6.5        4\n",
      "8.5        3\n",
      "7.5        1\n",
      "9.5        1\n",
      "5.5        1\n",
      "3.5        1\n",
      "1.5        1\n",
      "4.5        1\n",
      "Name: count, dtype: int64\n",
      "met\n",
      "0.0    6749\n",
      "1.0     325\n",
      "7.0       3\n",
      "3.0       1\n",
      "8.0       1\n",
      "Name: count, dtype: int64\n"
     ]
    }
   ],
   "source": [
    "for i in float_column_list:\n",
    "    print(df[i].value_counts())"
   ]
  },
  {
   "cell_type": "markdown",
   "id": "e4d0b38b-70ac-478d-9b60-0c24383bd45d",
   "metadata": {},
   "source": [
    "By looking at the value counts of the columns with type float, I can see that everything is in order except for one.\n",
    "\n",
    "The 'met' column is supposed to have a binary value based on whether they met or not. In this case there are 5 rows that are different from that criteria, we'd drop them."
   ]
  },
  {
   "cell_type": "code",
   "execution_count": 43,
   "id": "b111a8a9-a58f-4b9c-bb23-1a2ba44c63f7",
   "metadata": {},
   "outputs": [],
   "source": [
    "#Keeping just the values of 'met' between 0 and 1.\n",
    "df = df[df['met'].isin([0, 1])]\n",
    "binary_columns.append('met')\n",
    "float_column_list.remove('met')"
   ]
  },
  {
   "cell_type": "code",
   "execution_count": 44,
   "id": "4f6f6f91-2221-4538-83b8-5f81e0728466",
   "metadata": {},
   "outputs": [
    {
     "data": {
      "text/html": [
       "<div>\n",
       "<style scoped>\n",
       "    .dataframe tbody tr th:only-of-type {\n",
       "        vertical-align: middle;\n",
       "    }\n",
       "\n",
       "    .dataframe tbody tr th {\n",
       "        vertical-align: top;\n",
       "    }\n",
       "\n",
       "    .dataframe thead th {\n",
       "        text-align: right;\n",
       "    }\n",
       "</style>\n",
       "<table border=\"1\" class=\"dataframe\">\n",
       "  <thead>\n",
       "    <tr style=\"text-align: right;\">\n",
       "      <th></th>\n",
       "      <th>wave</th>\n",
       "      <th>gender</th>\n",
       "      <th>age</th>\n",
       "      <th>age_o</th>\n",
       "      <th>d_age</th>\n",
       "      <th>race</th>\n",
       "      <th>race_o</th>\n",
       "      <th>importance_same_race</th>\n",
       "      <th>importance_same_religion</th>\n",
       "      <th>d_importance_same_race</th>\n",
       "      <th>...</th>\n",
       "      <th>expected_happy_with_sd_people</th>\n",
       "      <th>d_expected_happy_with_sd_people</th>\n",
       "      <th>d_expected_num_interested_in_me</th>\n",
       "      <th>d_expected_num_matches</th>\n",
       "      <th>like</th>\n",
       "      <th>guess_prob_liked</th>\n",
       "      <th>d_like</th>\n",
       "      <th>d_guess_prob_liked</th>\n",
       "      <th>met</th>\n",
       "      <th>match</th>\n",
       "    </tr>\n",
       "  </thead>\n",
       "  <tbody>\n",
       "    <tr>\n",
       "      <th>0</th>\n",
       "      <td>1.0</td>\n",
       "      <td>female</td>\n",
       "      <td>21.0</td>\n",
       "      <td>27.0</td>\n",
       "      <td>6.0</td>\n",
       "      <td>Asian</td>\n",
       "      <td>Caucasian</td>\n",
       "      <td>2.0</td>\n",
       "      <td>4.0</td>\n",
       "      <td>1</td>\n",
       "      <td>...</td>\n",
       "      <td>3.0</td>\n",
       "      <td>0</td>\n",
       "      <td>0</td>\n",
       "      <td>1</td>\n",
       "      <td>7.0</td>\n",
       "      <td>6.0</td>\n",
       "      <td>1</td>\n",
       "      <td>1</td>\n",
       "      <td>0.0</td>\n",
       "      <td>0</td>\n",
       "    </tr>\n",
       "    <tr>\n",
       "      <th>1</th>\n",
       "      <td>1.0</td>\n",
       "      <td>female</td>\n",
       "      <td>21.0</td>\n",
       "      <td>22.0</td>\n",
       "      <td>1.0</td>\n",
       "      <td>Asian</td>\n",
       "      <td>Caucasian</td>\n",
       "      <td>2.0</td>\n",
       "      <td>4.0</td>\n",
       "      <td>1</td>\n",
       "      <td>...</td>\n",
       "      <td>3.0</td>\n",
       "      <td>0</td>\n",
       "      <td>0</td>\n",
       "      <td>1</td>\n",
       "      <td>7.0</td>\n",
       "      <td>5.0</td>\n",
       "      <td>1</td>\n",
       "      <td>1</td>\n",
       "      <td>1.0</td>\n",
       "      <td>0</td>\n",
       "    </tr>\n",
       "    <tr>\n",
       "      <th>3</th>\n",
       "      <td>1.0</td>\n",
       "      <td>female</td>\n",
       "      <td>21.0</td>\n",
       "      <td>23.0</td>\n",
       "      <td>2.0</td>\n",
       "      <td>Asian</td>\n",
       "      <td>Caucasian</td>\n",
       "      <td>2.0</td>\n",
       "      <td>4.0</td>\n",
       "      <td>1</td>\n",
       "      <td>...</td>\n",
       "      <td>3.0</td>\n",
       "      <td>0</td>\n",
       "      <td>0</td>\n",
       "      <td>1</td>\n",
       "      <td>7.0</td>\n",
       "      <td>6.0</td>\n",
       "      <td>1</td>\n",
       "      <td>1</td>\n",
       "      <td>0.0</td>\n",
       "      <td>1</td>\n",
       "    </tr>\n",
       "    <tr>\n",
       "      <th>4</th>\n",
       "      <td>1.0</td>\n",
       "      <td>female</td>\n",
       "      <td>21.0</td>\n",
       "      <td>24.0</td>\n",
       "      <td>3.0</td>\n",
       "      <td>Asian</td>\n",
       "      <td>Latino</td>\n",
       "      <td>2.0</td>\n",
       "      <td>4.0</td>\n",
       "      <td>1</td>\n",
       "      <td>...</td>\n",
       "      <td>3.0</td>\n",
       "      <td>0</td>\n",
       "      <td>0</td>\n",
       "      <td>1</td>\n",
       "      <td>6.0</td>\n",
       "      <td>6.0</td>\n",
       "      <td>1</td>\n",
       "      <td>1</td>\n",
       "      <td>0.0</td>\n",
       "      <td>1</td>\n",
       "    </tr>\n",
       "    <tr>\n",
       "      <th>5</th>\n",
       "      <td>1.0</td>\n",
       "      <td>female</td>\n",
       "      <td>21.0</td>\n",
       "      <td>25.0</td>\n",
       "      <td>4.0</td>\n",
       "      <td>Asian</td>\n",
       "      <td>Caucasian</td>\n",
       "      <td>2.0</td>\n",
       "      <td>4.0</td>\n",
       "      <td>1</td>\n",
       "      <td>...</td>\n",
       "      <td>3.0</td>\n",
       "      <td>0</td>\n",
       "      <td>0</td>\n",
       "      <td>1</td>\n",
       "      <td>6.0</td>\n",
       "      <td>5.0</td>\n",
       "      <td>1</td>\n",
       "      <td>1</td>\n",
       "      <td>0.0</td>\n",
       "      <td>0</td>\n",
       "    </tr>\n",
       "  </tbody>\n",
       "</table>\n",
       "<p>5 rows × 112 columns</p>\n",
       "</div>"
      ],
      "text/plain": [
       "   wave  gender   age  age_o  d_age   race     race_o  importance_same_race  \\\n",
       "0   1.0  female  21.0   27.0    6.0  Asian  Caucasian                   2.0   \n",
       "1   1.0  female  21.0   22.0    1.0  Asian  Caucasian                   2.0   \n",
       "3   1.0  female  21.0   23.0    2.0  Asian  Caucasian                   2.0   \n",
       "4   1.0  female  21.0   24.0    3.0  Asian     Latino                   2.0   \n",
       "5   1.0  female  21.0   25.0    4.0  Asian  Caucasian                   2.0   \n",
       "\n",
       "   importance_same_religion  d_importance_same_race  ...  \\\n",
       "0                       4.0                       1  ...   \n",
       "1                       4.0                       1  ...   \n",
       "3                       4.0                       1  ...   \n",
       "4                       4.0                       1  ...   \n",
       "5                       4.0                       1  ...   \n",
       "\n",
       "   expected_happy_with_sd_people d_expected_happy_with_sd_people  \\\n",
       "0                            3.0                               0   \n",
       "1                            3.0                               0   \n",
       "3                            3.0                               0   \n",
       "4                            3.0                               0   \n",
       "5                            3.0                               0   \n",
       "\n",
       "   d_expected_num_interested_in_me  d_expected_num_matches  like  \\\n",
       "0                                0                       1   7.0   \n",
       "1                                0                       1   7.0   \n",
       "3                                0                       1   7.0   \n",
       "4                                0                       1   6.0   \n",
       "5                                0                       1   6.0   \n",
       "\n",
       "   guess_prob_liked  d_like  d_guess_prob_liked  met  match  \n",
       "0               6.0       1                   1  0.0      0  \n",
       "1               5.0       1                   1  1.0      0  \n",
       "3               6.0       1                   1  0.0      1  \n",
       "4               6.0       1                   1  0.0      1  \n",
       "5               5.0       1                   1  0.0      0  \n",
       "\n",
       "[5 rows x 112 columns]"
      ]
     },
     "execution_count": 44,
     "metadata": {},
     "output_type": "execute_result"
    }
   ],
   "source": [
    "df.head()"
   ]
  },
  {
   "cell_type": "code",
   "execution_count": 45,
   "id": "4b501448-5421-409a-8fdd-7c626d511eb5",
   "metadata": {},
   "outputs": [
    {
     "name": "stdout",
     "output_type": "stream",
     "text": [
      "<class 'pandas.core.frame.DataFrame'>\n",
      "Index: 7074 entries, 0 to 8377\n",
      "Columns: 112 entries, wave to match\n",
      "dtypes: float64(53), int64(54), object(5)\n",
      "memory usage: 6.1+ MB\n"
     ]
    }
   ],
   "source": [
    "df.info()"
   ]
  },
  {
   "cell_type": "code",
   "execution_count": 46,
   "id": "37c9caa4-d4f7-4759-bd92-5d5682ec15cf",
   "metadata": {},
   "outputs": [
    {
     "data": {
      "text/plain": [
       "256"
      ]
     },
     "execution_count": 46,
     "metadata": {},
     "output_type": "execute_result"
    }
   ],
   "source": [
    "df['field'].nunique()"
   ]
  },
  {
   "cell_type": "markdown",
   "id": "4ba7468a-27ce-4824-8afb-d74d546deff8",
   "metadata": {},
   "source": [
    "### Field Column\n",
    "\n",
    "The field column has 256 unique values, to be able to categorize them properly, since some of them are variations with spelling differences and others are slightly different fields (such as Finance and money, for example), we created two field filters dictionaries to be able to bring them down to 21 broader terms that can explain those fields and allow us to further in the process to one hot encode them. Without this method, the column would've been completely useless."
   ]
  },
  {
   "cell_type": "code",
   "execution_count": 47,
   "id": "03112fc6-f3a3-4d8a-ac45-066110307fcf",
   "metadata": {},
   "outputs": [],
   "source": [
    "#Creating filter dictionaries to clean the column\n",
    "\n",
    "field_filter = {\n",
    "    'Law': 'Law and Legal Studies','law': 'Legal Studies','Economics': 'Economics','Masters in Public Administration': 'Public Administration',\n",
    "    'Masters of Social Work&Education': 'Social Work/Education','Finance': 'Finance','Business': 'Business','political science': 'Political Science',\n",
    "    'money': 'Finance','Operations Research': 'Operations Research','TC [Health Ed]': 'Health Education','Psychology': 'Psychology','social work': 'Social Work',\n",
    "    'Social Work': 'Social Work','Speech Language Pathology': 'Speech Pathology','Educational Psychology': 'Psychology','Applied Maths/Econs': 'Mathematics',\n",
    "    'Mathematics': 'Mathematics','Statistics': 'Statistics','Organizational Psychology': 'Psychology','Mechanical Engineering': 'Engineering',\n",
    "    'Finanace': 'Finance','Finance&Economics': 'Finance','Undergrad - GS': 'Education','Mathematical Finance': 'Finance','Medicine': 'Medicine',\n",
    "    'MBA': 'Business Administration','LAW': 'Legal Studies','psychology': 'Psychology','German Literature': 'Literature','Business & International Affairs': 'Business Administration',\n",
    "    'MFA Creative Writing': 'Creative Writing','Engineering': 'Engineering','Electrical Engineering': 'Engineering','Classics': 'Classics',\n",
    "    'Operations Research [SEAS]': 'Operations Research','chemistry': 'Chemistry','Journalism': 'Journalism','Elementary/Childhood Education [MA]': 'Education',\n",
    "    'microbiology': 'Microbiology','Masters of Social Work': 'Social Work','Communications': 'Communications','Marketing': 'Marketing','Chemistry': 'Chemistry',\n",
    "    'International Educational Development': 'Education','Education Administration': 'Education','Business [MBA]': 'Business Administration',\n",
    "    'Computer Science': 'Computer Science','Climate-Earth and Environ. Science': 'Environmental Science','financial math': 'Finance','Business- MBA': 'Business Administration',\n",
    "    'Religion': 'Religion','Film': 'Film','Sociology': 'Sociology','Economics; English': 'Economics','Economics; Sociology': 'Economics',\n",
    "    'Polish': 'Languages','English': 'Languages','psychology and english': 'Psychology','Biomedical Engineering': 'Engineering',\n",
    "    'Economics and Political Science': 'Economics','Art History/medicine': 'Art History','philosophy': 'Philosophy','electrical engineering': 'Engineering',\n",
    "    'marine geophysics': 'Geophysics','theory': 'Theory','engineering': 'Engineering','Nutrition/Genetics': 'Biology','Neuroscience': 'Neuroscience',\n",
    "    'Comparative Literature': 'Literature','International Relations': 'International Relations','History of Religion': 'Religion',\n",
    "    'international affairs - economic development': 'International Affairs','Political Science': 'Political Science',\n",
    "    'Modern Chinese Literature': 'Literature','business': 'Business','Business; marketing': 'Business Administration','physics [astrophysics]': 'Physics',\n",
    "    'Physics': 'Physics','Business/ Finance/ Real Estate': 'Business Administration','Biochemistry': 'Biochemistry','Art Education': 'Education',\n",
    "    'Philosophy': 'Philosophy','American Studies [Masters]': 'American Studies','biology': 'Biology','Cell Biology': 'Biology',\n",
    "    'Microbiology': 'Microbiology','math': 'Mathematics','International Affairs/Finance': 'International Affairs',\n",
    "    'International Affairs': 'International Affairs','international affairs/international finance': 'International Affairs','Health policy': 'Health Policy',\n",
    "    'English and Comp Lit': 'Languages','international finance and business': 'Finance','Sociomedical Sciences- School of Public Health': 'Public Health',\n",
    "    'Epidemiology': 'Epidemiology','Social work': 'Social Work','International Business': 'Business Administration','Medical Informatics': 'Health Informatics',\n",
    "    'International Finance; Economic Policy': 'Finance','Law and Social Work': 'Law and Legal Studies','International Development': 'International Affairs',\n",
    "    'Business/Law': 'Business Administration','Clinical Psychology': 'Psychology','Religion; GSAS': 'Religion','International Affairs and Public Health': 'International Affairs',\n",
    "    'International affairs': 'International Affairs','History': 'History','Business and International Affairs [MBA/MIA Dual Degree]': 'Business Administration',\n",
    "    'QMSS': 'Quantitative Methods','climate change': 'Environmental Science','Public Administration': 'Public Administration','MA Biotechnology': 'Biotechnology',\n",
    "    'International Affairs/Business': 'International Affairs','Ecology': 'Environmental Science','Master in Public Administration': 'Public Administration',\n",
    "    'Computational Biochemsistry': 'Biochemistry','Neurobiology': 'Neuroscience','Mathematics; PhD': 'Mathematics','History [GSAS - PhD]': 'History',\n",
    "    'biomedicine': 'Biochemistry','Master of International Affairs': 'International Affairs','Sociology and Education': 'Sociology',\n",
    "    'elementary education': 'Education','Biology': 'Biology','American Studies': 'American Studies','Arts Administration': 'Arts Administration',\n",
    "    'Conservation biology': 'Biology','sociology': 'Sociology','Japanese Literature': 'Literature','biotechnology': 'Biotechnology',\n",
    "    'Earth and Environmental Science': 'Environmental Science','Philosophy [Ph.D.]': 'Philosophy','Philosophy and Physics': 'Philosophy',\n",
    "    'nutrition': 'Nutrition','MA Science Education': 'Education','Genetics': 'Genetics','Law and English Literature [J.D./Ph.D.]': 'Legal Studies',\n",
    "    'french': 'Languages','Nutritiron': 'Nutrition','GS Postbacc PreMed': 'Pre-Med','Art History': 'Art History','Molecular Biology': 'Molecular Biology',\n",
    "    'Genetics & Development': 'Genetics','medical informatics': 'Health Informatics','Electrical Engg.': 'Engineering',\n",
    "    'Business School': 'Business Administration','International Politics': 'International Affairs','MBA / Master of International Affairs [SIPA]': 'Business Administration',\n",
    "    'genetics': 'Genetics','medicine and biochemistry': 'Medicine','Social Studies Education': 'Education','MA Teaching Social Studies': 'Education',\n",
    "    'Education Policy': 'Education','Education- Literacy Specialist': 'Education','Anthropology/Education': 'Anthropology',\n",
    "    'bilingual education': 'Education','speech pathology': 'Speech Pathology','Education': 'Education','Speech Pathology': 'Speech Pathology',\n",
    "    'math education': 'Education','TESOL': 'Education','Elementary Education': 'Education','Cognitive Studies in Education': 'Education',\n",
    "    'education': 'Education','Finance/Economics': 'Finance','Museum Anthropology': 'Anthropology','Environmental Engineering': 'Environmental Engineering',\n",
    "    'Business Administration': 'Business Administration','Curriculum and Teaching/Giftedness': 'Education','Instructional Tech & Media': 'Education',\n",
    "    'School Psychology': 'Psychology','Instructional Media and Technology': 'Education','SIPA / MIA': 'International Affairs',\n",
    "    'English Education': 'Education','art education': 'Education','MA in Quantitative Methods': 'Quantitative Methods',\n",
    "    'Early Childhood Education': 'Education','anthropology': 'Anthropology','Architecture': 'Architecture','Urban Planning': 'Urban Planning',\n",
    "    'Ed.D. in higher education policy at TC': 'Education','International Security Policy - SIPA': 'International Affairs',\n",
    "    'Nutrition': 'Nutrition','EDUCATION': 'Education','Applied Physiology & Nutrition': 'Nutrition','music education': 'Music Education',\n",
    "    'Music Education': 'Music Education','Counseling Psychology': 'Psychology','Communications in Education': 'Education',\n",
    "    'Intellectual Property Law': 'Law','MBA Finance': 'Business Administration','Intrernational Affairs': 'International Affairs',\n",
    "    'BUSINESS CONSULTING': 'Business Administration','business school': 'Business Administration',\n",
    "    'Business; Media': 'Business Administration','MFA -Film': 'Film','Higher Ed. - M.A.': 'Education','Neuroscience and Education': 'Neuroscience',\n",
    "    'Creative Writing': 'Creative Writing','Creative Writing - Nonfiction': 'Creative Writing','Writing: Literary Nonfiction': 'Creative Writing',\n",
    "    'Creative Writing [Nonfiction]': 'Creative Writing','NonFiction Writing': 'Creative Writing','Theatre Management & Producing': 'Theatre',\n",
    "    'Financial Engineering': 'Finance','biomedical engineering': 'Biomedical Engineering','Fundraising Management': 'Management',\n",
    "    'Business [Finance & Marketing]': 'Business Administration','Elementary Education - Preservice': 'Education','Education Leadership - Public School Administration': 'Education',\n",
    "    'MFA Writing': 'Creative Writing','Bilingual Education': 'Education','International Affairs - Economic Policy': 'International Affairs',\n",
    "    'SIPA - Energy': 'Energy','Public Policy': 'Public Policy','Law/Business': 'Legal Studies','MFA  Poetry': 'Creative Writing',\n",
    "    'SOA -- writing': 'Creative Writing','biomedical informatics': 'Health Informatics','physics': 'Physics','working': 'Other',\n",
    "    'Consulting': 'Consulting','Human Rights: Middle East': 'Human Rights','Human Rights': 'Human Rights','medicine': 'Medicine',\n",
    "    'Biotechnology': 'Biotechnology','SIPA-International Affairs': 'International Affairs','teaching of English': 'Education','GSAS': 'Other',\n",
    "    'African-American Studies/History': 'African-American Studies','Neurosciences/Stem cells': 'Neuroscience','film': 'Film','journalism': 'Journalism',\n",
    "    'Theater': 'Theatre','Biology PhD': 'Biology','biochemistry/genetics': 'Biochemistry','epidemiology': 'Epidemiology','Stats': 'Statistics',\n",
    "    'math of finance': 'Mathematics','MFA Acting Program': 'Acting','Nonfiction writing': 'Creative Writing','Biochemistry & Molecular Biophysics': 'Biochemistry',\n",
    "    'Acting': 'Acting','Social Work/SIPA': 'Social Work','Public Health': 'Public Health','ELECTRICAL ENGINEERING': 'Engineering',\n",
    "    'Math': 'Mathematics','Biomedical engineering': 'Biomedical Engineering','Industrial Engineering': 'Industrial Engineering',\n",
    "    'Industrial Engineering/Operations Research': 'Operations Research','Masters of Industrial Engineering': 'Industrial Engineering',\n",
    "    'Biomedical Informatics': 'Health Informatics','MBA - Private Equity / Real Estate': 'Business Administration',\n",
    "    'General management/finance': 'Business Administration','Climate Dynamics': 'Environmental Science',\n",
    "}\n",
    "\n",
    "field_filter2 = {\n",
    "    'Legal Studies': 'Law and Legal Studies','Economics': 'Social Sciences','Public Administration': 'Public Administration',\n",
    "    'Social Work/Education': 'Social Sciences','Finance': 'Business and Finance','Business': 'Business and Finance',\n",
    "    'Political Science': 'Social Sciences','Operations Research': 'Mathematics and Statistics','Health Education': 'Health Sciences and Medicine',\n",
    "    'Psychology': 'Psychology','Social Work': 'Social Sciences','Speech Pathology': 'Health Sciences and Medicine',\n",
    "    'Mathematics': 'Mathematics and Statistics','Statistics': 'Mathematics and Statistics','Engineering': 'Engineering',\n",
    "    'Education': 'Education','Medicine': 'Health Sciences and Medicine','Business Administration': 'Business and Finance',\n",
    "    'Literature': 'Humanities','Creative Writing': 'Humanities','Classics': 'Humanities','Chemistry': 'Physical Sciences',\n",
    "    'Journalism': 'Communications','Microbiology': 'Biology','Marketing': 'Business and Finance','Environmental Science': 'Environmental Sciences',\n",
    "    'Religion': 'Humanities','Film': 'Arts and Media','Sociology': 'Social Sciences','Languages': 'Languages and Linguistics','Art History': 'Humanities',\n",
    "    'Philosophy': 'Humanities','Geophysics': 'Physical Sciences','Theory': 'Social Sciences','Biology': 'Biology','Neuroscience': 'Health Sciences and Medicine',\n",
    "    'International Relations': 'Social Sciences','International Affairs': 'Social Sciences','Physics': 'Physical Sciences','Biochemistry': 'Biology',\n",
    "    'American Studies': 'Social Sciences','Health Policy': 'Health Sciences and Medicine','Public Health': 'Health Sciences and Medicine','Epidemiology': 'Health Sciences and Medicine',\n",
    "    'Health Informatics': 'Health Sciences and Medicine','History': 'Humanities','Quantitative Methods': 'Mathematics and Statistics','Biotechnology': 'Biology',\n",
    "    'Arts Administration': 'Arts and Media','Nutrition': 'Health Sciences and Medicine','Genetics': 'Biology','Pre-Med': 'Health Sciences and Medicine',\n",
    "    'Molecular Biology': 'Biology','Anthropology': 'Social Sciences','Environmental Engineering': 'Engineering','Architecture': 'Other',\n",
    "    'Urban Planning': 'Other','Music Education': 'Arts and Media','Law': 'Law and Legal Studies','Theatre': 'Arts and Media',\n",
    "    'Biomedical Engineering': 'Engineering','Management': 'Business and Finance','Energy': 'Environmental Sciences','Public Policy': 'Social Sciences',\n",
    "    'Other': 'Other','Consulting': 'Business and Finance','Human Rights': 'Social Sciences','African-American Studies': 'Social Sciences',\n",
    "    'Acting': 'Arts and Media','Industrial Engineering': 'Engineering',\n",
    "}"
   ]
  },
  {
   "cell_type": "code",
   "execution_count": 48,
   "id": "bef93e69-b0db-483a-9de1-4e5fa3f8cf80",
   "metadata": {},
   "outputs": [],
   "source": [
    "#Replacing the values and adding it to the categorical_colums list\n",
    "\n",
    "df['field'] = df['field'].replace(field_filter)\n",
    "df['field'] = df['field'].replace(field_filter2)\n",
    "categorical_columns.append('field')"
   ]
  },
  {
   "cell_type": "markdown",
   "id": "691cdc17-36a2-42ff-87bb-f21489595082",
   "metadata": {},
   "source": [
    "## EDA\n",
    "\n",
    "Now let's explore our data before start the modeling."
   ]
  },
  {
   "cell_type": "code",
   "execution_count": 49,
   "id": "30c1363b-2940-4fb4-aa79-91ab3a046410",
   "metadata": {},
   "outputs": [
    {
     "name": "stdout",
     "output_type": "stream",
     "text": [
      "<class 'pandas.core.frame.DataFrame'>\n",
      "Index: 7074 entries, 0 to 8377\n",
      "Columns: 112 entries, wave to match\n",
      "dtypes: float64(53), int64(54), object(5)\n",
      "memory usage: 6.1+ MB\n"
     ]
    }
   ],
   "source": [
    "df.info()"
   ]
  },
  {
   "cell_type": "code",
   "execution_count": 50,
   "id": "cc26d8e7-979e-4d81-b5c3-1dcce70d9810",
   "metadata": {},
   "outputs": [
    {
     "data": {
      "text/html": [
       "<div>\n",
       "<style scoped>\n",
       "    .dataframe tbody tr th:only-of-type {\n",
       "        vertical-align: middle;\n",
       "    }\n",
       "\n",
       "    .dataframe tbody tr th {\n",
       "        vertical-align: top;\n",
       "    }\n",
       "\n",
       "    .dataframe thead th {\n",
       "        text-align: right;\n",
       "    }\n",
       "</style>\n",
       "<table border=\"1\" class=\"dataframe\">\n",
       "  <thead>\n",
       "    <tr style=\"text-align: right;\">\n",
       "      <th></th>\n",
       "      <th>wave</th>\n",
       "      <th>age</th>\n",
       "      <th>age_o</th>\n",
       "      <th>d_age</th>\n",
       "      <th>importance_same_race</th>\n",
       "      <th>importance_same_religion</th>\n",
       "      <th>d_importance_same_race</th>\n",
       "      <th>d_importance_same_religion</th>\n",
       "      <th>pref_o_attractive</th>\n",
       "      <th>pref_o_sincere</th>\n",
       "      <th>...</th>\n",
       "      <th>d_interests_correlate</th>\n",
       "      <th>expected_happy_with_sd_people</th>\n",
       "      <th>d_expected_happy_with_sd_people</th>\n",
       "      <th>d_expected_num_interested_in_me</th>\n",
       "      <th>d_expected_num_matches</th>\n",
       "      <th>like</th>\n",
       "      <th>guess_prob_liked</th>\n",
       "      <th>d_like</th>\n",
       "      <th>d_guess_prob_liked</th>\n",
       "      <th>met</th>\n",
       "    </tr>\n",
       "  </thead>\n",
       "  <tbody>\n",
       "    <tr>\n",
       "      <th>count</th>\n",
       "      <td>7074.000000</td>\n",
       "      <td>7074.000000</td>\n",
       "      <td>7074.000000</td>\n",
       "      <td>7074.000000</td>\n",
       "      <td>7074.000000</td>\n",
       "      <td>7074.000000</td>\n",
       "      <td>7074.000000</td>\n",
       "      <td>7074.000000</td>\n",
       "      <td>7074.000000</td>\n",
       "      <td>7074.000000</td>\n",
       "      <td>...</td>\n",
       "      <td>7074.000000</td>\n",
       "      <td>7074.000000</td>\n",
       "      <td>7074.000000</td>\n",
       "      <td>7074.000000</td>\n",
       "      <td>7074.000000</td>\n",
       "      <td>7074.000000</td>\n",
       "      <td>7074.000000</td>\n",
       "      <td>7074.000000</td>\n",
       "      <td>7074.000000</td>\n",
       "      <td>7074.000000</td>\n",
       "    </tr>\n",
       "    <tr>\n",
       "      <th>mean</th>\n",
       "      <td>11.300961</td>\n",
       "      <td>26.304354</td>\n",
       "      <td>26.315522</td>\n",
       "      <td>3.620441</td>\n",
       "      <td>3.781170</td>\n",
       "      <td>3.656064</td>\n",
       "      <td>0.952643</td>\n",
       "      <td>0.908256</td>\n",
       "      <td>22.233627</td>\n",
       "      <td>17.445638</td>\n",
       "      <td>...</td>\n",
       "      <td>1.093582</td>\n",
       "      <td>5.516257</td>\n",
       "      <td>1.044247</td>\n",
       "      <td>0.169353</td>\n",
       "      <td>0.590755</td>\n",
       "      <td>6.155669</td>\n",
       "      <td>5.253251</td>\n",
       "      <td>0.749647</td>\n",
       "      <td>0.960843</td>\n",
       "      <td>0.045943</td>\n",
       "    </tr>\n",
       "    <tr>\n",
       "      <th>std</th>\n",
       "      <td>5.958576</td>\n",
       "      <td>3.509872</td>\n",
       "      <td>3.484160</td>\n",
       "      <td>2.985518</td>\n",
       "      <td>2.832005</td>\n",
       "      <td>2.817213</td>\n",
       "      <td>0.789362</td>\n",
       "      <td>0.794212</td>\n",
       "      <td>12.376186</td>\n",
       "      <td>6.931630</td>\n",
       "      <td>...</td>\n",
       "      <td>0.787651</td>\n",
       "      <td>1.729667</td>\n",
       "      <td>0.709567</td>\n",
       "      <td>0.483155</td>\n",
       "      <td>0.695183</td>\n",
       "      <td>1.813615</td>\n",
       "      <td>2.110832</td>\n",
       "      <td>0.579301</td>\n",
       "      <td>0.772802</td>\n",
       "      <td>0.209376</td>\n",
       "    </tr>\n",
       "    <tr>\n",
       "      <th>min</th>\n",
       "      <td>1.000000</td>\n",
       "      <td>18.000000</td>\n",
       "      <td>18.000000</td>\n",
       "      <td>0.000000</td>\n",
       "      <td>0.000000</td>\n",
       "      <td>1.000000</td>\n",
       "      <td>0.000000</td>\n",
       "      <td>0.000000</td>\n",
       "      <td>0.000000</td>\n",
       "      <td>0.000000</td>\n",
       "      <td>...</td>\n",
       "      <td>0.000000</td>\n",
       "      <td>1.000000</td>\n",
       "      <td>0.000000</td>\n",
       "      <td>0.000000</td>\n",
       "      <td>0.000000</td>\n",
       "      <td>0.000000</td>\n",
       "      <td>0.000000</td>\n",
       "      <td>0.000000</td>\n",
       "      <td>0.000000</td>\n",
       "      <td>0.000000</td>\n",
       "    </tr>\n",
       "    <tr>\n",
       "      <th>25%</th>\n",
       "      <td>7.000000</td>\n",
       "      <td>24.000000</td>\n",
       "      <td>24.000000</td>\n",
       "      <td>1.000000</td>\n",
       "      <td>1.000000</td>\n",
       "      <td>1.000000</td>\n",
       "      <td>0.000000</td>\n",
       "      <td>0.000000</td>\n",
       "      <td>15.000000</td>\n",
       "      <td>15.000000</td>\n",
       "      <td>...</td>\n",
       "      <td>0.000000</td>\n",
       "      <td>5.000000</td>\n",
       "      <td>1.000000</td>\n",
       "      <td>0.000000</td>\n",
       "      <td>0.000000</td>\n",
       "      <td>5.000000</td>\n",
       "      <td>4.000000</td>\n",
       "      <td>0.000000</td>\n",
       "      <td>0.000000</td>\n",
       "      <td>0.000000</td>\n",
       "    </tr>\n",
       "    <tr>\n",
       "      <th>50%</th>\n",
       "      <td>11.000000</td>\n",
       "      <td>26.000000</td>\n",
       "      <td>26.000000</td>\n",
       "      <td>3.000000</td>\n",
       "      <td>3.000000</td>\n",
       "      <td>3.000000</td>\n",
       "      <td>1.000000</td>\n",
       "      <td>1.000000</td>\n",
       "      <td>20.000000</td>\n",
       "      <td>18.370000</td>\n",
       "      <td>...</td>\n",
       "      <td>1.000000</td>\n",
       "      <td>6.000000</td>\n",
       "      <td>1.000000</td>\n",
       "      <td>0.000000</td>\n",
       "      <td>0.000000</td>\n",
       "      <td>6.000000</td>\n",
       "      <td>5.000000</td>\n",
       "      <td>1.000000</td>\n",
       "      <td>1.000000</td>\n",
       "      <td>0.000000</td>\n",
       "    </tr>\n",
       "    <tr>\n",
       "      <th>75%</th>\n",
       "      <td>15.000000</td>\n",
       "      <td>28.000000</td>\n",
       "      <td>28.000000</td>\n",
       "      <td>5.000000</td>\n",
       "      <td>6.000000</td>\n",
       "      <td>6.000000</td>\n",
       "      <td>2.000000</td>\n",
       "      <td>2.000000</td>\n",
       "      <td>25.000000</td>\n",
       "      <td>20.000000</td>\n",
       "      <td>...</td>\n",
       "      <td>2.000000</td>\n",
       "      <td>7.000000</td>\n",
       "      <td>2.000000</td>\n",
       "      <td>0.000000</td>\n",
       "      <td>1.000000</td>\n",
       "      <td>7.000000</td>\n",
       "      <td>7.000000</td>\n",
       "      <td>1.000000</td>\n",
       "      <td>2.000000</td>\n",
       "      <td>0.000000</td>\n",
       "    </tr>\n",
       "    <tr>\n",
       "      <th>max</th>\n",
       "      <td>21.000000</td>\n",
       "      <td>55.000000</td>\n",
       "      <td>55.000000</td>\n",
       "      <td>32.000000</td>\n",
       "      <td>10.000000</td>\n",
       "      <td>10.000000</td>\n",
       "      <td>2.000000</td>\n",
       "      <td>2.000000</td>\n",
       "      <td>100.000000</td>\n",
       "      <td>47.000000</td>\n",
       "      <td>...</td>\n",
       "      <td>2.000000</td>\n",
       "      <td>10.000000</td>\n",
       "      <td>2.000000</td>\n",
       "      <td>2.000000</td>\n",
       "      <td>2.000000</td>\n",
       "      <td>10.000000</td>\n",
       "      <td>10.000000</td>\n",
       "      <td>2.000000</td>\n",
       "      <td>2.000000</td>\n",
       "      <td>1.000000</td>\n",
       "    </tr>\n",
       "  </tbody>\n",
       "</table>\n",
       "<p>8 rows × 107 columns</p>\n",
       "</div>"
      ],
      "text/plain": [
       "              wave          age        age_o        d_age  \\\n",
       "count  7074.000000  7074.000000  7074.000000  7074.000000   \n",
       "mean     11.300961    26.304354    26.315522     3.620441   \n",
       "std       5.958576     3.509872     3.484160     2.985518   \n",
       "min       1.000000    18.000000    18.000000     0.000000   \n",
       "25%       7.000000    24.000000    24.000000     1.000000   \n",
       "50%      11.000000    26.000000    26.000000     3.000000   \n",
       "75%      15.000000    28.000000    28.000000     5.000000   \n",
       "max      21.000000    55.000000    55.000000    32.000000   \n",
       "\n",
       "       importance_same_race  importance_same_religion  d_importance_same_race  \\\n",
       "count           7074.000000               7074.000000             7074.000000   \n",
       "mean               3.781170                  3.656064                0.952643   \n",
       "std                2.832005                  2.817213                0.789362   \n",
       "min                0.000000                  1.000000                0.000000   \n",
       "25%                1.000000                  1.000000                0.000000   \n",
       "50%                3.000000                  3.000000                1.000000   \n",
       "75%                6.000000                  6.000000                2.000000   \n",
       "max               10.000000                 10.000000                2.000000   \n",
       "\n",
       "       d_importance_same_religion  pref_o_attractive  pref_o_sincere  ...  \\\n",
       "count                 7074.000000        7074.000000     7074.000000  ...   \n",
       "mean                     0.908256          22.233627       17.445638  ...   \n",
       "std                      0.794212          12.376186        6.931630  ...   \n",
       "min                      0.000000           0.000000        0.000000  ...   \n",
       "25%                      0.000000          15.000000       15.000000  ...   \n",
       "50%                      1.000000          20.000000       18.370000  ...   \n",
       "75%                      2.000000          25.000000       20.000000  ...   \n",
       "max                      2.000000         100.000000       47.000000  ...   \n",
       "\n",
       "       d_interests_correlate  expected_happy_with_sd_people  \\\n",
       "count            7074.000000                    7074.000000   \n",
       "mean                1.093582                       5.516257   \n",
       "std                 0.787651                       1.729667   \n",
       "min                 0.000000                       1.000000   \n",
       "25%                 0.000000                       5.000000   \n",
       "50%                 1.000000                       6.000000   \n",
       "75%                 2.000000                       7.000000   \n",
       "max                 2.000000                      10.000000   \n",
       "\n",
       "       d_expected_happy_with_sd_people  d_expected_num_interested_in_me  \\\n",
       "count                      7074.000000                      7074.000000   \n",
       "mean                          1.044247                         0.169353   \n",
       "std                           0.709567                         0.483155   \n",
       "min                           0.000000                         0.000000   \n",
       "25%                           1.000000                         0.000000   \n",
       "50%                           1.000000                         0.000000   \n",
       "75%                           2.000000                         0.000000   \n",
       "max                           2.000000                         2.000000   \n",
       "\n",
       "       d_expected_num_matches         like  guess_prob_liked       d_like  \\\n",
       "count             7074.000000  7074.000000       7074.000000  7074.000000   \n",
       "mean                 0.590755     6.155669          5.253251     0.749647   \n",
       "std                  0.695183     1.813615          2.110832     0.579301   \n",
       "min                  0.000000     0.000000          0.000000     0.000000   \n",
       "25%                  0.000000     5.000000          4.000000     0.000000   \n",
       "50%                  0.000000     6.000000          5.000000     1.000000   \n",
       "75%                  1.000000     7.000000          7.000000     1.000000   \n",
       "max                  2.000000    10.000000         10.000000     2.000000   \n",
       "\n",
       "       d_guess_prob_liked          met  \n",
       "count         7074.000000  7074.000000  \n",
       "mean             0.960843     0.045943  \n",
       "std              0.772802     0.209376  \n",
       "min              0.000000     0.000000  \n",
       "25%              0.000000     0.000000  \n",
       "50%              1.000000     0.000000  \n",
       "75%              2.000000     0.000000  \n",
       "max              2.000000     1.000000  \n",
       "\n",
       "[8 rows x 107 columns]"
      ]
     },
     "execution_count": 50,
     "metadata": {},
     "output_type": "execute_result"
    }
   ],
   "source": [
    "df.describe()"
   ]
  },
  {
   "cell_type": "markdown",
   "id": "727a4819-887c-43ca-bcc4-87670234e166",
   "metadata": {},
   "source": [
    "Let's look at the age distribution"
   ]
  },
  {
   "cell_type": "code",
   "execution_count": 51,
   "id": "cb03ee03-f193-4bbb-8a64-27ba09f42bb2",
   "metadata": {},
   "outputs": [
    {
     "data": {
      "image/png": "[encoded data removed]",
      "text/plain": [
       "<Figure size 900x600 with 1 Axes>"
      ]
     },
     "metadata": {},
     "output_type": "display_data"
    }
   ],
   "source": [
    "fig, ax = plt.subplots(figsize=(9,6))\n",
    "ax.hist(df['age'], alpha=0.3, bins=20)\n",
    "ax.set_title('Age distribution')\n",
    "ax.set_ylabel('Number of Ocurrences')\n",
    "ax.axvline(df['age'].mean(),color='red',label='Age Mean')\n",
    "ax.axvline(df['age'].median(),color='green',label='Age Median')\n",
    "ax.set_xlabel('Age')\n",
    "ax.legend();"
   ]
  },
  {
   "cell_type": "markdown",
   "id": "489511a2-6038-451b-8a96-8717cc841f89",
   "metadata": {},
   "source": [
    "As we can see here the distribution is slightly skewed with some outliers that don't affect too much the difference between the median and the mean.\n",
    "\n",
    "### Race & Gender\n",
    "\n",
    "Let's see the comparison of % of people per Race and by Gender"
   ]
  },
  {
   "cell_type": "code",
   "execution_count": 52,
   "id": "f62403c1-975f-4866-94e8-38986fcd6744",
   "metadata": {},
   "outputs": [
    {
     "data": {
      "image/png": "[encoded data removed]",
      "text/plain": [
       "<Figure size 1200x400 with 2 Axes>"
      ]
     },
     "metadata": {},
     "output_type": "display_data"
    }
   ],
   "source": [
    "fig, ax = plt.subplots(ncols=2,figsize=(12,4))\n",
    "x_0 = df['race'].value_counts().index\n",
    "y_0 = df['race'].value_counts(normalize=True)\n",
    "ax[0].set_title(\"% of Participants by Race\")\n",
    "#ax.set_ylabel(\"%\")\n",
    "ax[0].set_xlabel(\"Race\")\n",
    "ax[0].bar(x_0, height=y_0);\n",
    "x_1 = df['gender'].value_counts().index\n",
    "y_1 = df['gender'].value_counts(normalize=True)\n",
    "ax[1].bar(x_1, height=y_1)\n",
    "ax[1].set_title(\"% of Participants by Genre\")\n",
    "ax[1].set_xlabel(\"Gender\");"
   ]
  },
  {
   "cell_type": "markdown",
   "id": "4f8c7081-3168-4832-bb6d-bd30f2f17288",
   "metadata": {},
   "source": [
    "As we can see above, the Caucasian population has a larger precense in our dataset, and there also seems to be almost an equal amount of male and females."
   ]
  },
  {
   "cell_type": "markdown",
   "id": "82a421d5-3e81-478b-8b21-325131345f4d",
   "metadata": {},
   "source": [
    "## Splitting the Dataset\n",
    "\n",
    "We did some renaming on the values of the columns, but most of our pre-processing can't be done without risking some data leakage, we're going to do the splitting now, keeping a 25% of the data as Test."
   ]
  },
  {
   "cell_type": "code",
   "execution_count": 53,
   "id": "6f90ebd3-c304-4068-b8ab-8a78551b0d91",
   "metadata": {},
   "outputs": [],
   "source": [
    "# Splitting our data set\n",
    "X = df.drop('match',axis=1)\n",
    "y = df['match'].astype(int)\n",
    "X_train, X_test, y_train,y_test = train_test_split(X, y, test_size=0.25, random_state=420)"
   ]
  },
  {
   "cell_type": "code",
   "execution_count": 54,
   "id": "32c564e1-9964-4a5b-95bd-1cc7dc815c2d",
   "metadata": {},
   "outputs": [],
   "source": [
    "#Extending our numerical_column list to include them all and have it ready to analyze.\n",
    "numerical_columns.extend(float_column_list)"
   ]
  },
  {
   "cell_type": "markdown",
   "id": "3bfa00c5-1a14-4796-b7f7-eb64b271359e",
   "metadata": {},
   "source": [
    "## Preprocessing\n",
    "\n",
    "We'll do the steps in the Train and Test data in parallel, so we can keep an order on it."
   ]
  },
  {
   "cell_type": "code",
   "execution_count": 55,
   "id": "945fe175-1fbd-4dc7-b1f5-6fbdd40d870d",
   "metadata": {},
   "outputs": [],
   "source": [
    "#Getting a subset of just the numerical columns\n",
    "X_train_numerical = X_train[numerical_columns].copy()\n",
    "X_test_numerical = X_test[numerical_columns].copy()\n",
    "\n",
    "#Instantiating a scaler, fitting on the training data and transforming them, setting them back as a DataFrame\n",
    "scaler = StandardScaler()\n",
    "X_train_num_scaled = scaler.fit_transform(X_train_numerical)\n",
    "X_test_num_scaled = scaler.transform(X_test_numerical)\n",
    "X_train_num_scaled = pd.DataFrame(X_train_num_scaled, columns=X_train_numerical.columns)\n",
    "X_test_num_scaled = pd.DataFrame(X_test_num_scaled, columns=X_train_numerical.columns)\n",
    "\n",
    "#Creating a subset of categorical and binary columns for both Train and Test data\n",
    "X_train_categorical = X_train[categorical_columns].copy()\n",
    "X_test_categorical = X_test[categorical_columns].copy()\n",
    "X_train_bin = X_train[binary_columns].copy()\n",
    "X_test_bin = X_test[binary_columns].copy()\n",
    "\n",
    "#Instantiating One Hot Encoder, fitting and transforming on the train data, transforming the test data. Make sure to drop a column.\n",
    "ohe = OneHotEncoder(sparse_output=False,drop='first',handle_unknown='ignore')\n",
    "X_train_cat_encoded = ohe.fit_transform(X_train_categorical)\n",
    "X_test_cat_encoded = ohe.transform(X_test_categorical)\n",
    "X_train_cat_encoded = pd.DataFrame(X_train_cat_encoded, columns=ohe.get_feature_names_out())\n",
    "X_test_cat_encoded = pd.DataFrame(X_test_cat_encoded, columns=ohe.get_feature_names_out())\n",
    "\n",
    "#Resetting indexes for the train and test data to make possible the concatenation.\n",
    "X_train_num_scaled.reset_index(drop=True, inplace=True)\n",
    "X_train_cat_encoded.reset_index(drop=True, inplace=True)\n",
    "X_train_bin.reset_index(drop=True, inplace=True)\n",
    "\n",
    "X_test_num_scaled.reset_index(drop=True, inplace=True)\n",
    "X_test_cat_encoded.reset_index(drop=True, inplace=True)\n",
    "X_test_bin.reset_index(drop=True, inplace=True)\n",
    "\n",
    "\n",
    "#Concatenating all the columns\n",
    "X_train_pp = pd.concat([X_train_num_scaled,X_train_cat_encoded,X_train_bin], axis=1)\n",
    "X_test_pp = pd.concat([X_test_num_scaled,X_test_cat_encoded,X_test_bin], axis=1)"
   ]
  },
  {
   "cell_type": "markdown",
   "id": "1303d7cd-235c-4d5b-b762-8d75bf17b32e",
   "metadata": {},
   "source": [
    "## Balancing my data\n",
    "\n",
    "As we saw above, we have a 82%/18% of unbalanced on our data. Based on the nature of our business issue, there's no real difference between having a false positive and a false negative as far as severity, so we're going to focus on optimizing for accuracy"
   ]
  },
  {
   "cell_type": "code",
   "execution_count": 56,
   "id": "04628d88-97bb-4d6d-a4a1-924d3b1c082f",
   "metadata": {},
   "outputs": [],
   "source": [
    "#Instantiating smote, setting up a random_state so we can have the same numbers consistently\n",
    "smote = SMOTE(random_state=420)\n",
    "X_train_resampled, y_train_resampled = smote.fit_resample(X_train_pp, y_train)"
   ]
  },
  {
   "cell_type": "markdown",
   "id": "d8318f2b-6742-441a-86bb-7e7f03efb285",
   "metadata": {},
   "source": [
    "Verifying that the Upsampling was done successfully"
   ]
  },
  {
   "cell_type": "code",
   "execution_count": 57,
   "id": "21e1494f-97e2-4f3a-a821-427f5515a965",
   "metadata": {},
   "outputs": [
    {
     "data": {
      "text/plain": [
       "match\n",
       "0    0.829595\n",
       "1    0.170405\n",
       "Name: proportion, dtype: float64"
      ]
     },
     "execution_count": 57,
     "metadata": {},
     "output_type": "execute_result"
    }
   ],
   "source": [
    "y_train.value_counts(normalize=True)"
   ]
  },
  {
   "cell_type": "code",
   "execution_count": 58,
   "id": "a4e04dcb-92fe-4bda-8f3d-6d83ab363cc1",
   "metadata": {},
   "outputs": [
    {
     "data": {
      "text/plain": [
       "match\n",
       "0    0.5\n",
       "1    0.5\n",
       "Name: proportion, dtype: float64"
      ]
     },
     "execution_count": 58,
     "metadata": {},
     "output_type": "execute_result"
    }
   ],
   "source": [
    "y_train_resampled.value_counts(normalize=True)"
   ]
  },
  {
   "cell_type": "markdown",
   "id": "e531a1e9-f1e0-4e02-9999-5468cd25a6ec",
   "metadata": {},
   "source": [
    "With our data balanced, we can proceed to get a baseline performance of both a Logistic Regression model and DecisionTreeClassifier with default parameters\n",
    " \n",
    " ## Baseline Model - Logistic Regression"
   ]
  },
  {
   "cell_type": "code",
   "execution_count": 59,
   "id": "1e0abd67-0e22-4bc5-91af-998a71f97cc0",
   "metadata": {},
   "outputs": [
    {
     "name": "stderr",
     "output_type": "stream",
     "text": [
      "c:\\users\\eduar\\anaconda3\\envs\\learn-env\\lib\\site-packages\\sklearn\\linear_model\\_logistic.py:460: ConvergenceWarning: lbfgs failed to converge (status=1):\n",
      "STOP: TOTAL NO. of ITERATIONS REACHED LIMIT.\n",
      "\n",
      "Increase the number of iterations (max_iter) or scale the data as shown in:\n",
      "    https://scikit-learn.org/stable/modules/preprocessing.html\n",
      "Please also refer to the documentation for alternative solver options:\n",
      "    https://scikit-learn.org/stable/modules/linear_model.html#logistic-regression\n",
      "  n_iter_i = _check_optimize_result(\n"
     ]
    }
   ],
   "source": [
    "baseline_model = LogisticRegression(random_state=420)\n",
    "basel_mod_reg = baseline_model.fit(X_train_resampled,y_train_resampled)\n",
    "y_hat_train = baseline_model.predict(X_train_resampled)\n",
    "y_hat_test = baseline_model.predict(X_test_pp)"
   ]
  },
  {
   "cell_type": "markdown",
   "id": "d3c51b51-9a7f-4bc0-8b30-01dd206961d3",
   "metadata": {},
   "source": [
    "Note that we get a warning because the number of iterations is not enough, therefore our baseline_model is not converging."
   ]
  },
  {
   "cell_type": "code",
   "execution_count": 60,
   "id": "77452f84-ab5e-414c-8ee9-4066a3051589",
   "metadata": {},
   "outputs": [
    {
     "name": "stdout",
     "output_type": "stream",
     "text": [
      "\n",
      "Results for the Logistic Regression Baseline Model:\n",
      "\n",
      "Accuracy train Data: 0.808\n",
      "Accuracy test Data: 0.775\n",
      "\n",
      "Recall train Data: 0.829\n",
      "Recall test Data: 0.757\n",
      "\n",
      "Precision train Data: 0.796\n",
      "Precision test Data: 0.439\n",
      "\n",
      "F1 train Data: 0.812\n",
      "F1 test Data: 0.556\n",
      "\n"
     ]
    }
   ],
   "source": [
    "print(F\"\"\"\n",
    "Results for the Logistic Regression Baseline Model:\n",
    "\n",
    "Accuracy train Data: {round(accuracy_score(y_train_resampled,y_hat_train),3)}\n",
    "Accuracy test Data: {round(accuracy_score(y_test,y_hat_test),3)}\n",
    "\n",
    "Recall train Data: {round(recall_score(y_train_resampled,y_hat_train),3)}\n",
    "Recall test Data: {round(recall_score(y_test,y_hat_test),3)}\n",
    "\n",
    "Precision train Data: {round(precision_score(y_train_resampled,y_hat_train),3)}\n",
    "Precision test Data: {round(precision_score(y_test,y_hat_test),3)}\n",
    "\n",
    "F1 train Data: {round(f1_score(y_train_resampled,y_hat_train),3)}\n",
    "F1 test Data: {round(f1_score(y_test,y_hat_test),3)}\n",
    "\"\"\")"
   ]
  },
  {
   "cell_type": "markdown",
   "id": "a92f2971-d6fa-4f81-b9d3-8465ca96d3c6",
   "metadata": {},
   "source": [
    "Let's look at the confusion Matrix and the ROC Curve for this baseline model"
   ]
  },
  {
   "cell_type": "code",
   "execution_count": 61,
   "id": "be17fac3-a7f6-479f-8b44-86d0ffa244be",
   "metadata": {},
   "outputs": [
    {
     "data": {
      "image/png": "[encoded data removed]",
      "text/plain": [
       "<Figure size 640x480 with 2 Axes>"
      ]
     },
     "metadata": {},
     "output_type": "display_data"
    }
   ],
   "source": [
    "ConfusionMatrixDisplay.from_estimator(basel_mod_reg, X_test_pp, y_test)\n",
    "plt.title('Logistic Regression Baseline Model');"
   ]
  },
  {
   "cell_type": "markdown",
   "id": "68846e22-46cc-4a4f-b6eb-10cf14c10c82",
   "metadata": {},
   "source": [
    "As we see here even with a 77% accuracy we still have a big amount of False positives and False Negatives, let's try to improve that, let's also look at the ROC Curve plot for our Baseline Model"
   ]
  },
  {
   "cell_type": "code",
   "execution_count": 62,
   "id": "a3c42181-6fc3-4c6c-b3ad-ac15fab881ff",
   "metadata": {},
   "outputs": [
    {
     "data": {
      "image/png": "[encoded data removed]",
      "text/plain": [
       "<Figure size 640x480 with 1 Axes>"
      ]
     },
     "metadata": {},
     "output_type": "display_data"
    }
   ],
   "source": [
    "RocCurveDisplay.from_estimator(basel_mod_reg, X_test_pp, y_test)\n",
    "plt.title(\"Logistic Regression Baseline Model\");"
   ]
  },
  {
   "cell_type": "markdown",
   "id": "5b267ddf-a504-420f-9676-be80ffcbecd8",
   "metadata": {},
   "source": [
    "We have an area under the curve of 0.84. We're displaying it for model understanding purposes, but since our focus is accuracy we're not going to focus on optimizing the True Positive Rate."
   ]
  },
  {
   "cell_type": "markdown",
   "id": "8389901f-c610-4e85-a52c-a595748d1ef8",
   "metadata": {},
   "source": [
    "## Baseline Decision Tree Model"
   ]
  },
  {
   "cell_type": "markdown",
   "id": "3c1db121-8f79-43af-83e9-e033eaea8c4a",
   "metadata": {},
   "source": [
    "We create a baseline model using a decision tree. Keeping our Random State so we have consistency in the results but just leaving default parameters for everything else."
   ]
  },
  {
   "cell_type": "code",
   "execution_count": 63,
   "id": "39e669ce-ec4e-48e3-a4ed-7bd9038eb490",
   "metadata": {},
   "outputs": [],
   "source": [
    "# Instantiating the decision tree\n",
    "tree_baseline = DecisionTreeClassifier(random_state=420)\n",
    "#Fitting and getting scores for both train and test\n",
    "tree_baseline.fit(X_train_resampled, y_train_resampled)\n",
    "dt_train_score = tree_baseline.score(X_train_resampled, y_train_resampled)\n",
    "dt_test_score = tree_baseline.score(X_test_pp, y_test)\n",
    "y_hat_dt_train = tree_baseline.predict(X_train_resampled)\n",
    "y_hat_dt_test  = tree_baseline.predict(X_test_pp)"
   ]
  },
  {
   "cell_type": "code",
   "execution_count": 64,
   "id": "156ccca2-c231-4318-9b52-5e764bdf8ff3",
   "metadata": {},
   "outputs": [
    {
     "name": "stdout",
     "output_type": "stream",
     "text": [
      "\n",
      "Results for the Decision Tree Baseline Model:\n",
      "\n",
      "Accuracy train Data: 1.0\n",
      "Accuracy test Data: 0.775\n",
      "\n",
      "Recall train Data: 1.0\n",
      "Recall test Data: 0.45\n",
      "\n",
      "Precision train Data: 1.0\n",
      "Precision test Data: 0.405\n",
      "\n",
      "F1 train Data: 1.0\n",
      "F1 test Data: 0.427\n",
      "\n"
     ]
    }
   ],
   "source": [
    "#Printing results\n",
    "print(F\"\"\"\n",
    "Results for the Decision Tree Baseline Model:\n",
    "\n",
    "Accuracy train Data: {round(accuracy_score(y_train_resampled,y_hat_dt_train),3)}\n",
    "Accuracy test Data: {round(accuracy_score(y_test,y_hat_dt_test),3)}\n",
    "\n",
    "Recall train Data: {round(recall_score(y_train_resampled,y_hat_dt_train),3)}\n",
    "Recall test Data: {round(recall_score(y_test,y_hat_dt_test),3)}\n",
    "\n",
    "Precision train Data: {round(precision_score(y_train_resampled,y_hat_dt_train),3)}\n",
    "Precision test Data: {round(precision_score(y_test,y_hat_dt_test),3)}\n",
    "\n",
    "F1 train Data: {round(f1_score(y_train_resampled,y_hat_dt_train),3)}\n",
    "F1 test Data: {round(f1_score(y_test,y_hat_dt_test),3)}\n",
    "\"\"\")"
   ]
  },
  {
   "cell_type": "markdown",
   "id": "68b20a6d-5d57-4764-9ea7-aab5493c0355",
   "metadata": {},
   "source": [
    "Let's plot the decision tree, confusion Matrix and the ROC Curve to evaluate it."
   ]
  },
  {
   "cell_type": "code",
   "execution_count": 65,
   "id": "c578d7cf-98e1-4e31-bc7f-833901c426b2",
   "metadata": {},
   "outputs": [
    {
     "data": {
      "image/png": "[encoded data removed]",
      "text/plain": [
       "<Figure size 800x800 with 1 Axes>"
      ]
     },
     "metadata": {},
     "output_type": "display_data"
    }
   ],
   "source": [
    "f, ax = plt.subplots(figsize=(8, 8))\n",
    "plot_tree(tree_baseline, ax=ax)\n",
    "plt.title('Decision tree for Baseline Model');"
   ]
  },
  {
   "cell_type": "code",
   "execution_count": 66,
   "id": "23829c2f-cf2f-4f2a-9953-6041884b7a49",
   "metadata": {},
   "outputs": [
    {
     "data": {
      "image/png": "[encoded data removed]",
      "text/plain": [
       "<Figure size 640x480 with 2 Axes>"
      ]
     },
     "metadata": {},
     "output_type": "display_data"
    }
   ],
   "source": [
    "ConfusionMatrixDisplay.from_estimator(tree_baseline.fit(X_train_resampled, y_train_resampled), X_test_pp, y_test)\n",
    "plt.title('Decision Tree Baseline Model');"
   ]
  },
  {
   "cell_type": "code",
   "execution_count": 67,
   "id": "e346ebad-539a-4e24-b17c-adbfdd81d81f",
   "metadata": {},
   "outputs": [
    {
     "data": {
      "image/png": "[encoded data removed]",
      "text/plain": [
       "<Figure size 640x480 with 1 Axes>"
      ]
     },
     "metadata": {},
     "output_type": "display_data"
    }
   ],
   "source": [
    "RocCurveDisplay.from_estimator(tree_baseline.fit(X_train_resampled, y_train_resampled), X_test_pp, y_test)\n",
    "plt.title(\"Decision Tree Baseline Model\");"
   ]
  },
  {
   "cell_type": "markdown",
   "id": "677ad681-7768-4fd5-8a1b-14b73d7d21dc",
   "metadata": {},
   "source": [
    "There we have the plots for the decision tree model. On the first one, we can clearly see that is a model that tends to overfit.\n",
    "\n",
    "We show an area under the curve of 0.65. That along with the Recall tells us that this is not a good model to try to avoid False positives. Since in our confusion Matrix we have more false positives than true positives.\n",
    "\n",
    "Let's try to improve our hyperparameters, by creating a class that loops through all the possible combinations and then gives us the best combination of them.\n",
    "\n",
    "## Building a Model Validator Class\n",
    "\n",
    "We want to be able to do a complete analysis of the model within our class. Choose the hyperparameters, cross-validate the model, plot the necessary graphs to evaluate it, and get the most important features and the score for each metric."
   ]
  },
  {
   "cell_type": "code",
   "execution_count": 68,
   "id": "b95158bb-2ee5-4db5-b298-eca5a7e31e25",
   "metadata": {},
   "outputs": [],
   "source": [
    "#Defining the class\n",
    "\n",
    "class ModelValidator():\n",
    "    # Creating attributes that define and use later\n",
    "    \n",
    "    def __init__(self,X_train,y_train,X_test,y_test):\n",
    "        self.X_train = X_train\n",
    "        self.y_train = y_train\n",
    "        self.X_test = X_test\n",
    "        self.y_test = y_test      \n",
    "        self.cv_results = None\n",
    "        self.cv_mean = None\n",
    "        self.cv_top_lr = None\n",
    "        self.cv_top_dt = None\n",
    "        self.top_hp_lr = None\n",
    "        self.top_3_lr = None\n",
    "        self.top_hp_dt = None\n",
    "        self.top_3_dt = None\n",
    "        self.top_model_lr = None\n",
    "        self.top_model_dt = None\n",
    "\n",
    "     \n",
    "    # Defining the cross-validation method\n",
    "        \n",
    "    def cross_validate(self, model, kfolds=10):\n",
    "        self.cv_results = cross_val_score(model, self.X_train, self.y_train, cv=kfolds)\n",
    "        self.cv_mean = np.mean(self.cv_results)\n",
    "        return self.cv_mean\n",
    "\n",
    "   #Defining my logistic regression improving method.\n",
    "    \n",
    "    def check_log_reg(self, cv_now=False):\n",
    "        #Create a dictionary with ranges on the hyperparameters\n",
    "        log_reg_hyperp = {\n",
    "            'C': [0.01,0.1, 1.0,10,100,1000,10000],\n",
    "            'penalty': ['l1', 'l2','elasticnet'],\n",
    "            'solver': ['lbfgs', 'liblinear', 'newton-cg', 'newton-cholesky','sag'],\n",
    "            'tol': [1e-5,1e-4, 1e-3],\n",
    "            'random_state': [420],\n",
    "            'max_iter':[100000]\n",
    "    }\n",
    "        \n",
    "        top_3_lr = []\n",
    "\n",
    "        #Instantiating the model and looping through the different combinations of hyperparameters for a logistic regression model.\n",
    "        \n",
    "        model_inst = LogisticRegression()\n",
    "        for params in ParameterGrid(log_reg_hyperp):\n",
    "            try:\n",
    "                model_inst.set_params(**params)\n",
    "                model_inst.fit(self.X_train, self.y_train)\n",
    "                y_pred = model_inst.predict(self.X_test)\n",
    "                test_accuracy = accuracy_score(self.y_test, y_pred)\n",
    "                if cv_now:\n",
    "                    cv_accuracy = self.cross_validate(model_inst)\n",
    "                    top_3_lr.append((params, cv_accuracy, test_accuracy))\n",
    "                else:\n",
    "                    top_3_lr.append((params, test_accuracy))\n",
    "                \n",
    "            except ValueError as e:\n",
    "                continue\n",
    "\n",
    "        top_3_lr.sort(key=lambda x: x[-1], reverse=True)\n",
    "        top_hp_lr = top_3_lr[:1]\n",
    "        top_3_lr = top_3_lr[:3]\n",
    "        \n",
    "        # Saving the attributes\n",
    "        \n",
    "        self.top_3_lr = top_3_lr\n",
    "        self.top_hp_lr = top_hp_lr\n",
    "        self.top_model_lr = LogisticRegression().set_params(**self.top_hp_lr[0][0]).fit(self.X_train,self.y_train)\n",
    "\n",
    "\n",
    "    # Defining a model method to loop and find the best combination of hyperparameters for my decision tree\n",
    "    \n",
    "    def check_desc_tree(self, cv_now=False):\n",
    "        \n",
    "        #Creating a dictionary with the hyperparameters combinations\n",
    "        \n",
    "        decision_tree_hyperp = {\n",
    "        'criterion': ['gini','entropy','log_loss'],\n",
    "        'max_depth': range(1,5),\n",
    "        'min_samples_split': range(2,4),\n",
    "        'min_samples_leaf': range(1,4),\n",
    "        'random_state':[420]\n",
    "        }\n",
    "        \n",
    "        top_3_dt = []\n",
    "\n",
    "        #Instantiating the model, looping through them and finding top performers\n",
    "        \n",
    "        model_inst = DecisionTreeClassifier()\n",
    "        for params in ParameterGrid(decision_tree_hyperp):\n",
    "            try:\n",
    "                model_inst.set_params(**params)\n",
    "                model_inst.fit(self.X_train, self.y_train)\n",
    "                y_pred = model_inst.predict(self.X_test)\n",
    "                test_accuracy = accuracy_score(self.y_test, y_pred)\n",
    "                if cv_now:\n",
    "                    cv_accuracy = self.cross_validate(model_inst)\n",
    "                    top_3_dt.append((params, cv_accuracy, test_accuracy))\n",
    "                else:\n",
    "                    top_3_dt.append((params, accuracy))\n",
    "            except ValueError as e:\n",
    "                continue\n",
    "\n",
    "        top_3_dt.sort(key=lambda x: x[-1], reverse=True)\n",
    "        top_hp_dt = top_3_dt[:1]\n",
    "        top_3_dt = top_3_dt[:3]\n",
    "\n",
    "        #Saving attributes\n",
    "        \n",
    "        self.top_3_dt = top_3_dt\n",
    "        self.top_hp_dt = top_hp_dt\n",
    "        self.top_model_dt = DecisionTreeClassifier().set_params(**self.top_hp_dt[0][0]).fit(self.X_train,self.y_train)\n",
    "\n",
    "        # Plotting Confusion Matrix for top performing models\n",
    "    \n",
    "    def plot_confusion_matrix(self):\n",
    "        if self.top_hp_lr[0][-1] > self.top_hp_dt[0][-1]:\n",
    "            top_model = LogisticRegression().set_params(**self.top_hp_lr[0][0]).fit(self.X_train,self.y_train)\n",
    "            model_type = 'Logistic Regression'\n",
    "        else:\n",
    "            top_model = DecisionTreeClassifier().set_params(**self.top_hp_dt[0][0]).fit(self.X_train,self.y_train)\n",
    "            model_type = 'Decision Tree'\n",
    "        ConfusionMatrixDisplay.from_estimator(top_model, self.X_test, self.y_test)\n",
    "        plt.title(f\"Confusion Matrix for {model_type}\");\n",
    "        \n",
    "        #Plotting ROC Curve for top performing models\n",
    "    \n",
    "    def plot_roc_curve(self):\n",
    "        if self.top_hp_lr[0][-1] > self.top_hp_dt[0][-1]:\n",
    "            top_model = LogisticRegression().set_params(**self.top_hp_lr[0][0]).fit(self.X_train,self.y_train)\n",
    "            model_type = 'Logistic Regression'\n",
    "        else:\n",
    "            top_model = DecisionTreeClassifier().set_params(**self.top_hp_dt[0][0]).fit(self.X_train,self.y_train)\n",
    "            model_type = 'Decision Tree'\n",
    "        RocCurveDisplay.from_estimator(top_model, self.X_test, self.y_test)\n",
    "        plt.title(F\"ROC Curve for {model_type}\");\n",
    "\n",
    "        #Determining most important features for my data\n",
    "    \n",
    "    def feature_importance(self, n=10):\n",
    "        if self.top_hp_lr[0][-1] < self.top_hp_dt[0][-1]:\n",
    "            top_model = DecisionTreeClassifier().set_params(**self.top_hp_dt[0][0])\n",
    "            features_used = self.X_train.columns\n",
    "            top_model.fit(self.X_train, self.y_train)\n",
    "            feature_importance = list(zip(top_model.feature_importances_, features_used))\n",
    "        else:\n",
    "            top_model = LogisticRegression().set_params(**self.top_hp_lr[0][0])\n",
    "            top_model.fit(self.X_train, self.y_train)\n",
    "            features_used = self.X_train.columns\n",
    "            feature_importance = list(zip(abs(top_model.coef_[0]), features_used))\n",
    "            \n",
    "        feature_importance.sort(key=lambda x: x[0], reverse=True)\n",
    "        return feature_importance[:n]\n",
    "\n",
    "\n",
    "        #Creating a method to obtain the score DataFrame\n",
    "    def scores(self, both_models=False):\n",
    "        dt_y_hat_train = self.top_model_dt.predict(self.X_train)\n",
    "        dt_y_hat_test = self.top_model_dt.predict(self.X_test)\n",
    "        lr_y_hat_train = self.top_model_lr.predict(self.X_train)\n",
    "        lr_y_hat_test = self.top_model_lr.predict(self.X_test)\n",
    "        self.cv_top_lr = self.top_hp_lr[0][1]\n",
    "        self.cv_top_dt = self.top_hp_dt[0][1]\n",
    "        \n",
    "        dt_df = {\n",
    "            'Accuracy train':round(accuracy_score(self.y_train,dt_y_hat_train),3),\n",
    "            'Accuracy test':round(accuracy_score(self.y_test,dt_y_hat_test),3),\n",
    "            'Recall train':round(recall_score(self.y_train,dt_y_hat_train),3),\n",
    "            'Recall test':round(recall_score(self.y_test,dt_y_hat_test),3),\n",
    "            'Precision train':round(precision_score(self.y_train,dt_y_hat_train),3),\n",
    "            'Precision test':round(precision_score(self.y_test,dt_y_hat_test),3),\n",
    "            'F1 train':round(f1_score(self.y_train,dt_y_hat_train),3),\n",
    "            'F1 test':round(f1_score(self.y_test,dt_y_hat_test),3),\n",
    "            'CV results': round(self.cv_top_dt,3)\n",
    "        }\n",
    "\n",
    "        lr_df = {\n",
    "            'Accuracy train':round(accuracy_score(self.y_train,lr_y_hat_train),3),\n",
    "            'Accuracy test':round(accuracy_score(self.y_test,lr_y_hat_test),3),\n",
    "            'Recall train':round(recall_score(self.y_train,lr_y_hat_train),3),\n",
    "            'Recall test':round(recall_score(self.y_test,lr_y_hat_test),3),\n",
    "            'Precision train':round(precision_score(self.y_train,lr_y_hat_train),3),\n",
    "            'Precision test':round(precision_score(self.y_test,lr_y_hat_test),3),\n",
    "            'F1 train':round(f1_score(self.y_train,lr_y_hat_train),3),\n",
    "            'F1 test':round(f1_score(self.y_test,lr_y_hat_test),3),\n",
    "            'CV results': round(self.cv_top_lr,3)\n",
    "        }\n",
    "\n",
    "        decision_tree_df = pd.DataFrame(list(dt_df.values()), index=dt_df.keys(), columns=['Decision Tree'])\n",
    "        logistic_regression_df = pd.DataFrame(list(lr_df.values()), index=lr_df.keys(), columns=['Logistic Regression'])\n",
    "\n",
    "        if both_models:\n",
    "            df = pd.concat([decision_tree_df,logistic_regression_df],axis=1)\n",
    "            return df\n",
    "        else:\n",
    "            if self.top_hp_lr[0][-1] < self.top_hp_dt[0][-1]:\n",
    "                return decision_tree_df\n",
    "            else:\n",
    "                return logistic_regression_df\n",
    "                \n",
    "    #Creating a method to plot the decision tree\n",
    "    \n",
    "    def plot_tree(self):\n",
    "        f, ax = plt.subplots(figsize=(8, 8))\n",
    "        plot_tree(self.top_model_dt, ax=ax)\n",
    "        plt.title('Decision Tree Classifier');"
   ]
  },
  {
   "cell_type": "markdown",
   "id": "01972ed5-4b47-4d3b-9eea-4cd17aa18563",
   "metadata": {},
   "source": [
    "## Observing the best performing Model"
   ]
  },
  {
   "cell_type": "markdown",
   "id": "28bc50f9-a81a-4051-83d7-f79877c7680b",
   "metadata": {},
   "source": [
    "With our class, we are going to evaluate our dataset and then establish the hyperparameters that give us the best accuracy.\n",
    "\n",
    "Afterwards we'll explore our results and compare with our baseline models shown above."
   ]
  },
  {
   "cell_type": "code",
   "execution_count": 69,
   "id": "a193243c-7ba0-4c0a-864d-d4d7f9cf1b59",
   "metadata": {},
   "outputs": [],
   "source": [
    "#Instantiating our ModelValidator class\n",
    "validator = ModelValidator(X_train_resampled, y_train_resampled,X_test_pp,y_test)\n",
    "\n",
    "#Calling the decision tree and logistic regression checking functions including the cross validation.\n",
    "\n",
    "validator.check_desc_tree(cv_now=True)\n",
    "validator.check_log_reg(cv_now=True)"
   ]
  },
  {
   "cell_type": "code",
   "execution_count": 70,
   "id": "2b1a5c9f-9fdf-4d42-a52b-b2b5a95bf384",
   "metadata": {},
   "outputs": [
    {
     "data": {
      "text/plain": [
       "[({'C': 1.0,\n",
       "   'max_iter': 100000,\n",
       "   'penalty': 'l1',\n",
       "   'random_state': 420,\n",
       "   'solver': 'liblinear',\n",
       "   'tol': 0.0001},\n",
       "  0.7995991125786812,\n",
       "  0.776144714527982)]"
      ]
     },
     "execution_count": 70,
     "metadata": {},
     "output_type": "execute_result"
    }
   ],
   "source": [
    "# Observing the best hyperparameters for logistic regression\n",
    "\n",
    "validator.top_hp_lr"
   ]
  },
  {
   "cell_type": "code",
   "execution_count": 71,
   "id": "1d96c5c9-61ca-4816-a11b-7df0aac9100d",
   "metadata": {},
   "outputs": [
    {
     "data": {
      "text/plain": [
       "[({'criterion': 'gini',\n",
       "   'max_depth': 4,\n",
       "   'min_samples_leaf': 1,\n",
       "   'min_samples_split': 2,\n",
       "   'random_state': 420},\n",
       "  0.8264313538334539,\n",
       "  0.7964951950254381)]"
      ]
     },
     "execution_count": 71,
     "metadata": {},
     "output_type": "execute_result"
    }
   ],
   "source": [
    "#Observing the best hyperparameters for decision trees\n",
    "\n",
    "validator.top_hp_dt"
   ]
  },
  {
   "cell_type": "markdown",
   "id": "e7578849-1509-4ade-9fad-f92ffc5a2526",
   "metadata": {},
   "source": [
    "As we can see above the decision tree model had better accuracy, but let's take a better look by comparing the best-performing set of hyperparameters for both models "
   ]
  },
  {
   "cell_type": "code",
   "execution_count": 72,
   "id": "9ba65a6a-9a03-4eb2-b28a-7fc52bb81900",
   "metadata": {},
   "outputs": [
    {
     "data": {
      "text/html": [
       "<div>\n",
       "<style scoped>\n",
       "    .dataframe tbody tr th:only-of-type {\n",
       "        vertical-align: middle;\n",
       "    }\n",
       "\n",
       "    .dataframe tbody tr th {\n",
       "        vertical-align: top;\n",
       "    }\n",
       "\n",
       "    .dataframe thead th {\n",
       "        text-align: right;\n",
       "    }\n",
       "</style>\n",
       "<table border=\"1\" class=\"dataframe\">\n",
       "  <thead>\n",
       "    <tr style=\"text-align: right;\">\n",
       "      <th></th>\n",
       "      <th>Decision Tree</th>\n",
       "      <th>Logistic Regression</th>\n",
       "    </tr>\n",
       "  </thead>\n",
       "  <tbody>\n",
       "    <tr>\n",
       "      <th>Accuracy train</th>\n",
       "      <td>0.829</td>\n",
       "      <td>0.808</td>\n",
       "    </tr>\n",
       "    <tr>\n",
       "      <th>Accuracy test</th>\n",
       "      <td>0.796</td>\n",
       "      <td>0.776</td>\n",
       "    </tr>\n",
       "    <tr>\n",
       "      <th>Recall train</th>\n",
       "      <td>0.809</td>\n",
       "      <td>0.831</td>\n",
       "    </tr>\n",
       "    <tr>\n",
       "      <th>Recall test</th>\n",
       "      <td>0.638</td>\n",
       "      <td>0.760</td>\n",
       "    </tr>\n",
       "    <tr>\n",
       "      <th>Precision train</th>\n",
       "      <td>0.842</td>\n",
       "      <td>0.794</td>\n",
       "    </tr>\n",
       "    <tr>\n",
       "      <th>Precision test</th>\n",
       "      <td>0.466</td>\n",
       "      <td>0.441</td>\n",
       "    </tr>\n",
       "    <tr>\n",
       "      <th>F1 train</th>\n",
       "      <td>0.825</td>\n",
       "      <td>0.812</td>\n",
       "    </tr>\n",
       "    <tr>\n",
       "      <th>F1 test</th>\n",
       "      <td>0.538</td>\n",
       "      <td>0.558</td>\n",
       "    </tr>\n",
       "    <tr>\n",
       "      <th>CV results</th>\n",
       "      <td>0.826</td>\n",
       "      <td>0.800</td>\n",
       "    </tr>\n",
       "  </tbody>\n",
       "</table>\n",
       "</div>"
      ],
      "text/plain": [
       "                 Decision Tree  Logistic Regression\n",
       "Accuracy train           0.829                0.808\n",
       "Accuracy test            0.796                0.776\n",
       "Recall train             0.809                0.831\n",
       "Recall test              0.638                0.760\n",
       "Precision train          0.842                0.794\n",
       "Precision test           0.466                0.441\n",
       "F1 train                 0.825                0.812\n",
       "F1 test                  0.538                0.558\n",
       "CV results               0.826                0.800"
      ]
     },
     "execution_count": 72,
     "metadata": {},
     "output_type": "execute_result"
    }
   ],
   "source": [
    "#Looking at different scores,\n",
    "validator.scores(both_models=True)"
   ]
  },
  {
   "cell_type": "markdown",
   "id": "402128e7-cb93-4ab7-9e00-2580e1e58ae2",
   "metadata": {},
   "source": [
    "Compared to the baseline decision tree, we have a much simpler version that won't lead us that much to overfitting."
   ]
  },
  {
   "cell_type": "markdown",
   "id": "ee703a53-0133-43b6-a805-13911a6eeb50",
   "metadata": {},
   "source": [
    "## Feature Importance\n",
    "\n",
    "Now, let's take a look at what are the most important features and its weight on our decision model"
   ]
  },
  {
   "cell_type": "code",
   "execution_count": 73,
   "id": "41de1620-08e1-44c3-bbb3-d3de5c493abc",
   "metadata": {},
   "outputs": [
    {
     "data": {
      "text/plain": [
       "[(0.5386604128264771, 'like'),\n",
       " (0.2376586873522825, 'funny_o'),\n",
       " (0.06487794394032843, 'd_shared_interests_o'),\n",
       " (0.06038099058060674, 'd_like'),\n",
       " (0.0600448551523998, 'd_attractive_o'),\n",
       " (0.016088921278930305, 'attractive_o'),\n",
       " (0.00805904079162653, 'met'),\n",
       " (0.007569471778465005, 'd_funny_partner'),\n",
       " (0.004367621947046811, 'attractive_important'),\n",
       " (0.0022920543518366934, 'field_Psychology')]"
      ]
     },
     "execution_count": 73,
     "metadata": {},
     "output_type": "execute_result"
    }
   ],
   "source": [
    "# Looking at the Feature importance:\n",
    "validator.feature_importance(10)"
   ]
  },
  {
   "cell_type": "markdown",
   "id": "a6a3dc64-30c9-47e5-b840-1b2e0fa9fdda",
   "metadata": {},
   "source": [
    "## Trying to further improve\n",
    "\n",
    "We can see that those are the most improtant features, so in order to try to make it simpler let's run a model that has only those columns"
   ]
  },
  {
   "cell_type": "code",
   "execution_count": 74,
   "id": "47015aca-d9df-43ab-b80d-729190a3e95f",
   "metadata": {},
   "outputs": [
    {
     "data": {
      "text/html": [
       "<div>\n",
       "<style scoped>\n",
       "    .dataframe tbody tr th:only-of-type {\n",
       "        vertical-align: middle;\n",
       "    }\n",
       "\n",
       "    .dataframe tbody tr th {\n",
       "        vertical-align: top;\n",
       "    }\n",
       "\n",
       "    .dataframe thead th {\n",
       "        text-align: right;\n",
       "    }\n",
       "</style>\n",
       "<table border=\"1\" class=\"dataframe\">\n",
       "  <thead>\n",
       "    <tr style=\"text-align: right;\">\n",
       "      <th></th>\n",
       "      <th>Decision Tree</th>\n",
       "      <th>Logistic Regression</th>\n",
       "    </tr>\n",
       "  </thead>\n",
       "  <tbody>\n",
       "    <tr>\n",
       "      <th>Accuracy train</th>\n",
       "      <td>0.829</td>\n",
       "      <td>0.766</td>\n",
       "    </tr>\n",
       "    <tr>\n",
       "      <th>Accuracy test</th>\n",
       "      <td>0.796</td>\n",
       "      <td>0.733</td>\n",
       "    </tr>\n",
       "    <tr>\n",
       "      <th>Recall train</th>\n",
       "      <td>0.809</td>\n",
       "      <td>0.793</td>\n",
       "    </tr>\n",
       "    <tr>\n",
       "      <th>Recall test</th>\n",
       "      <td>0.638</td>\n",
       "      <td>0.787</td>\n",
       "    </tr>\n",
       "    <tr>\n",
       "      <th>Precision train</th>\n",
       "      <td>0.842</td>\n",
       "      <td>0.753</td>\n",
       "    </tr>\n",
       "    <tr>\n",
       "      <th>Precision test</th>\n",
       "      <td>0.466</td>\n",
       "      <td>0.392</td>\n",
       "    </tr>\n",
       "    <tr>\n",
       "      <th>F1 train</th>\n",
       "      <td>0.825</td>\n",
       "      <td>0.772</td>\n",
       "    </tr>\n",
       "    <tr>\n",
       "      <th>F1 test</th>\n",
       "      <td>0.538</td>\n",
       "      <td>0.523</td>\n",
       "    </tr>\n",
       "    <tr>\n",
       "      <th>CV results</th>\n",
       "      <td>0.827</td>\n",
       "      <td>0.766</td>\n",
       "    </tr>\n",
       "  </tbody>\n",
       "</table>\n",
       "</div>"
      ],
      "text/plain": [
       "                 Decision Tree  Logistic Regression\n",
       "Accuracy train           0.829                0.766\n",
       "Accuracy test            0.796                0.733\n",
       "Recall train             0.809                0.793\n",
       "Recall test              0.638                0.787\n",
       "Precision train          0.842                0.753\n",
       "Precision test           0.466                0.392\n",
       "F1 train                 0.825                0.772\n",
       "F1 test                  0.538                0.523\n",
       "CV results               0.827                0.766"
      ]
     },
     "execution_count": 74,
     "metadata": {},
     "output_type": "execute_result"
    }
   ],
   "source": [
    "important_columns = []\n",
    "for i in validator.feature_importance(10):\n",
    "    important_columns.append(i[1])\n",
    "important_columns\n",
    "\n",
    "X_train_s = X_train_resampled[important_columns].copy()\n",
    "X_test_s = X_test_pp[important_columns].copy()\n",
    "\n",
    "#Instantiating our ModelValidator class on the simplified dataset\n",
    "validator_simple = ModelValidator(X_train_s, y_train_resampled,X_test_s,y_test)\n",
    "\n",
    "#Calling the decision tree and logistic regression checking functions including the cross-validation for our new object\n",
    "\n",
    "validator_simple.check_desc_tree(cv_now=True)\n",
    "validator_simple.check_log_reg(cv_now=True)\n",
    "\n",
    "validator_simple.scores(both_models=True)"
   ]
  },
  {
   "cell_type": "markdown",
   "id": "b81f3c9b-f9cf-49a3-872b-649805d0ee4f",
   "metadata": {},
   "source": [
    "Here we noticed the same scores than on our first model, but having less features makes it simple and faster.\n",
    "\n",
    "## Polynomial features\n",
    "\n",
    "Now that we have less columns, let's try to add som complexity to see if we can improve our accuracy."
   ]
  },
  {
   "cell_type": "code",
   "execution_count": 75,
   "id": "a3287f67-37db-4a68-8846-95094e691a52",
   "metadata": {},
   "outputs": [
    {
     "data": {
      "text/html": [
       "<div>\n",
       "<style scoped>\n",
       "    .dataframe tbody tr th:only-of-type {\n",
       "        vertical-align: middle;\n",
       "    }\n",
       "\n",
       "    .dataframe tbody tr th {\n",
       "        vertical-align: top;\n",
       "    }\n",
       "\n",
       "    .dataframe thead th {\n",
       "        text-align: right;\n",
       "    }\n",
       "</style>\n",
       "<table border=\"1\" class=\"dataframe\">\n",
       "  <thead>\n",
       "    <tr style=\"text-align: right;\">\n",
       "      <th></th>\n",
       "      <th>Decision Tree</th>\n",
       "      <th>Logistic Regression</th>\n",
       "    </tr>\n",
       "  </thead>\n",
       "  <tbody>\n",
       "    <tr>\n",
       "      <th>Accuracy train</th>\n",
       "      <td>0.796</td>\n",
       "      <td>0.807</td>\n",
       "    </tr>\n",
       "    <tr>\n",
       "      <th>Accuracy test</th>\n",
       "      <td>0.807</td>\n",
       "      <td>0.757</td>\n",
       "    </tr>\n",
       "    <tr>\n",
       "      <th>Recall train</th>\n",
       "      <td>0.738</td>\n",
       "      <td>0.840</td>\n",
       "    </tr>\n",
       "    <tr>\n",
       "      <th>Recall test</th>\n",
       "      <td>0.644</td>\n",
       "      <td>0.726</td>\n",
       "    </tr>\n",
       "    <tr>\n",
       "      <th>Precision train</th>\n",
       "      <td>0.834</td>\n",
       "      <td>0.788</td>\n",
       "    </tr>\n",
       "    <tr>\n",
       "      <th>Precision test</th>\n",
       "      <td>0.486</td>\n",
       "      <td>0.413</td>\n",
       "    </tr>\n",
       "    <tr>\n",
       "      <th>F1 train</th>\n",
       "      <td>0.783</td>\n",
       "      <td>0.813</td>\n",
       "    </tr>\n",
       "    <tr>\n",
       "      <th>F1 test</th>\n",
       "      <td>0.554</td>\n",
       "      <td>0.527</td>\n",
       "    </tr>\n",
       "    <tr>\n",
       "      <th>CV results</th>\n",
       "      <td>0.795</td>\n",
       "      <td>0.801</td>\n",
       "    </tr>\n",
       "  </tbody>\n",
       "</table>\n",
       "</div>"
      ],
      "text/plain": [
       "                 Decision Tree  Logistic Regression\n",
       "Accuracy train           0.796                0.807\n",
       "Accuracy test            0.807                0.757\n",
       "Recall train             0.738                0.840\n",
       "Recall test              0.644                0.726\n",
       "Precision train          0.834                0.788\n",
       "Precision test           0.486                0.413\n",
       "F1 train                 0.783                0.813\n",
       "F1 test                  0.554                0.527\n",
       "CV results               0.795                0.801"
      ]
     },
     "execution_count": 75,
     "metadata": {},
     "output_type": "execute_result"
    }
   ],
   "source": [
    "poly = PolynomialFeatures(interaction_only=False, include_bias=False)\n",
    "poly.fit(X_train_s)\n",
    "new_col_names = pd.Series(poly.get_feature_names_out(X_train_s.columns)).str.replace(\" \", \" x \")\n",
    "X_train_int = pd.DataFrame(poly.transform(X_train_s), columns=new_col_names)\n",
    "X_test_int = pd.DataFrame(poly.transform(X_test_s), columns=new_col_names)\n",
    "\n",
    "validator_pol_int = ModelValidator(X_train_int, y_train_resampled,X_test_int,y_test)\n",
    "validator_pol_int.check_desc_tree(cv_now=True)\n",
    "validator_pol_int.check_log_reg(cv_now=True)\n",
    "\n",
    "validator_pol_int.scores(both_models=True)"
   ]
  },
  {
   "cell_type": "code",
   "execution_count": 76,
   "id": "c6be6237-a669-463b-b8e0-6bccbb14244f",
   "metadata": {},
   "outputs": [
    {
     "data": {
      "text/plain": [
       "[({'C': 100,\n",
       "   'max_iter': 100000,\n",
       "   'penalty': 'l1',\n",
       "   'random_state': 420,\n",
       "   'solver': 'liblinear',\n",
       "   'tol': 1e-05},\n",
       "  0.8006306108760706,\n",
       "  0.7574901074053138)]"
      ]
     },
     "execution_count": 76,
     "metadata": {},
     "output_type": "execute_result"
    }
   ],
   "source": [
    "validator_pol_int.top_hp_lr"
   ]
  },
  {
   "cell_type": "code",
   "execution_count": 77,
   "id": "e2569505-92de-43d6-85c2-98b26056f248",
   "metadata": {},
   "outputs": [
    {
     "data": {
      "text/plain": [
       "[({'criterion': 'gini',\n",
       "   'max_depth': 2,\n",
       "   'min_samples_leaf': 1,\n",
       "   'min_samples_split': 2,\n",
       "   'random_state': 420},\n",
       "  0.7947274533071921,\n",
       "  0.8072357263990956)]"
      ]
     },
     "execution_count": 77,
     "metadata": {},
     "output_type": "execute_result"
    }
   ],
   "source": [
    "validator_pol_int.top_hp_dt"
   ]
  },
  {
   "cell_type": "code",
   "execution_count": 78,
   "id": "c2c9f814-cf0b-4214-8727-70391e2cb95a",
   "metadata": {},
   "outputs": [
    {
     "data": {
      "text/html": [
       "<div>\n",
       "<style scoped>\n",
       "    .dataframe tbody tr th:only-of-type {\n",
       "        vertical-align: middle;\n",
       "    }\n",
       "\n",
       "    .dataframe tbody tr th {\n",
       "        vertical-align: top;\n",
       "    }\n",
       "\n",
       "    .dataframe thead th {\n",
       "        text-align: right;\n",
       "    }\n",
       "</style>\n",
       "<table border=\"1\" class=\"dataframe\">\n",
       "  <thead>\n",
       "    <tr style=\"text-align: right;\">\n",
       "      <th></th>\n",
       "      <th>Decision Tree</th>\n",
       "      <th>Logistic Regression</th>\n",
       "    </tr>\n",
       "  </thead>\n",
       "  <tbody>\n",
       "    <tr>\n",
       "      <th>Accuracy train</th>\n",
       "      <td>0.796</td>\n",
       "      <td>0.807</td>\n",
       "    </tr>\n",
       "    <tr>\n",
       "      <th>Accuracy test</th>\n",
       "      <td>0.807</td>\n",
       "      <td>0.757</td>\n",
       "    </tr>\n",
       "    <tr>\n",
       "      <th>Recall train</th>\n",
       "      <td>0.738</td>\n",
       "      <td>0.840</td>\n",
       "    </tr>\n",
       "    <tr>\n",
       "      <th>Recall test</th>\n",
       "      <td>0.644</td>\n",
       "      <td>0.726</td>\n",
       "    </tr>\n",
       "    <tr>\n",
       "      <th>Precision train</th>\n",
       "      <td>0.834</td>\n",
       "      <td>0.788</td>\n",
       "    </tr>\n",
       "    <tr>\n",
       "      <th>Precision test</th>\n",
       "      <td>0.486</td>\n",
       "      <td>0.413</td>\n",
       "    </tr>\n",
       "    <tr>\n",
       "      <th>F1 train</th>\n",
       "      <td>0.783</td>\n",
       "      <td>0.813</td>\n",
       "    </tr>\n",
       "    <tr>\n",
       "      <th>F1 test</th>\n",
       "      <td>0.554</td>\n",
       "      <td>0.527</td>\n",
       "    </tr>\n",
       "    <tr>\n",
       "      <th>CV results</th>\n",
       "      <td>0.795</td>\n",
       "      <td>0.801</td>\n",
       "    </tr>\n",
       "  </tbody>\n",
       "</table>\n",
       "</div>"
      ],
      "text/plain": [
       "                 Decision Tree  Logistic Regression\n",
       "Accuracy train           0.796                0.807\n",
       "Accuracy test            0.807                0.757\n",
       "Recall train             0.738                0.840\n",
       "Recall test              0.644                0.726\n",
       "Precision train          0.834                0.788\n",
       "Precision test           0.486                0.413\n",
       "F1 train                 0.783                0.813\n",
       "F1 test                  0.554                0.527\n",
       "CV results               0.795                0.801"
      ]
     },
     "execution_count": 78,
     "metadata": {},
     "output_type": "execute_result"
    }
   ],
   "source": [
    "validator_pol_int.scores(both_models=True)"
   ]
  },
  {
   "cell_type": "markdown",
   "id": "ea180794-c12c-4abf-bbbb-aee54779d96b",
   "metadata": {},
   "source": [
    "## Results\n",
    "\n",
    "Here, we can clearly see that the decision tree with just the most important columns and polynomial features performs better in almost every metric, also being the model that will be faster to deploy.\n",
    "\n",
    "Now let's look at some plots of this model to evaluate its performance."
   ]
  },
  {
   "cell_type": "code",
   "execution_count": 79,
   "id": "18770ed5-92be-4f58-8bd3-36abc9d9a123",
   "metadata": {},
   "outputs": [
    {
     "data": {
      "text/plain": [
       "[(0.6002786472407949, 'like'),\n",
       " (0.28942722900602147, 'like x attractive_o'),\n",
       " (0.1102941237531836, 'd_shared_interests_o^2'),\n",
       " (0.0, 'funny_o'),\n",
       " (0.0, 'd_shared_interests_o')]"
      ]
     },
     "execution_count": 79,
     "metadata": {},
     "output_type": "execute_result"
    }
   ],
   "source": [
    "validator_pol_int.feature_importance(5)"
   ]
  },
  {
   "cell_type": "code",
   "execution_count": 80,
   "id": "c8a9d538-7adf-4d7a-8b23-574aa5ea3733",
   "metadata": {},
   "outputs": [
    {
     "data": {
      "image/png": "[encoded data removed]",
      "text/plain": [
       "<Figure size 800x800 with 1 Axes>"
      ]
     },
     "metadata": {},
     "output_type": "display_data"
    }
   ],
   "source": [
    "#Plotting decision tree\n",
    "validator_pol_int.plot_tree()"
   ]
  },
  {
   "cell_type": "code",
   "execution_count": 81,
   "id": "a7a9373c-1171-4445-a77d-7a445e71b8d8",
   "metadata": {},
   "outputs": [
    {
     "data": {
      "image/png": "[encoded data removed]",
      "text/plain": [
       "<Figure size 640x480 with 2 Axes>"
      ]
     },
     "metadata": {},
     "output_type": "display_data"
    }
   ],
   "source": [
    "# Plotting confusion matrix\n",
    "validator_pol_int.plot_confusion_matrix()"
   ]
  },
  {
   "cell_type": "markdown",
   "id": "221bd4dc-fc81-43fc-bc57-31470bce4fb6",
   "metadata": {},
   "source": [
    "Compared to our baseline model, we had an important improve on the true positive rate, even though we have 7 more false positives."
   ]
  },
  {
   "cell_type": "code",
   "execution_count": 82,
   "id": "9fc3199e-8737-4f9e-8eb2-1224d1ae00cd",
   "metadata": {},
   "outputs": [
    {
     "data": {
      "image/png": "[encoded data removed]",
      "text/plain": [
       "<Figure size 640x480 with 1 Axes>"
      ]
     },
     "metadata": {},
     "output_type": "display_data"
    }
   ],
   "source": [
    "# Plotting ROC Curve\n",
    "validator_pol_int.plot_roc_curve()"
   ]
  },
  {
   "cell_type": "markdown",
   "id": "df60e3ff-80b4-4384-80f9-652c31737efc",
   "metadata": {},
   "source": [
    "The Area under the curve improved from 0.64 to 0.76, which is consistent with what we saw on the confusion Matrix, an improvement in the True Positive Rate."
   ]
  },
  {
   "cell_type": "markdown",
   "id": "28d5c697-2898-4306-8916-8cf4ef19294b",
   "metadata": {},
   "source": [
    "As we can see, the most important factor in determining a match is whether or not the couple likes each other, which might seem intuitive. Whether they found each other attractive and the amount of shared interest they had."
   ]
  },
  {
   "cell_type": "markdown",
   "id": "9b199cee-b30e-4970-b592-20fedc1bbc2d",
   "metadata": {},
   "source": [
    "# Recommendations\n",
    "\n",
    "* Create workshops for grooming and style.\n",
    "* Classes to break the ice to avoid effect of just meeting someone.\n",
    "* Create premium tier to make people more likely to match."
   ]
  },
  {
   "cell_type": "markdown",
   "id": "7550e6fb-05de-4a49-9ba8-eb7469eb3295",
   "metadata": {},
   "source": [
    "# Next Steps\n",
    "\n",
    "* We can create subsets by race or gender so we can further analyze what are the most important factors for each sub-category at the moment of finding a partner.\n",
    "* We can extract the non-important features and evaluate how our model performs.\n",
    "* We can also extract from our analysis the features that are more important when matching and creating personalized recommendations"
   ]
  },
  {
   "cell_type": "code",
   "execution_count": null,
   "id": "97a91f3f-0f63-4373-8dfb-b58cd4cf2253",
   "metadata": {},
   "outputs": [],
   "source": []
  }
 ],
 "metadata": {
  "kernelspec": {
   "display_name": "Python 3 (ipykernel)",
   "language": "python",
   "name": "python3"
  },
  "language_info": {
   "codemirror_mode": {
    "name": "ipython",
    "version": 3
   },
   "file_extension": ".py",
   "mimetype": "text/x-python",
   "name": "python",
   "nbconvert_exporter": "python",
   "pygments_lexer": "ipython3",
   "version": "3.8.5"
  }
 },
 "nbformat": 4,
 "nbformat_minor": 5
}
